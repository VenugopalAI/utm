{
  "nbformat": 4,
  "nbformat_minor": 0,
  "metadata": {
    "kernelspec": {
      "display_name": "Python 3",
      "language": "python",
      "name": "python3"
    },
    "language_info": {
      "codemirror_mode": {
        "name": "ipython",
        "version": 3
      },
      "file_extension": ".py",
      "mimetype": "text/x-python",
      "name": "python",
      "nbconvert_exporter": "python",
      "pygments_lexer": "ipython3",
      "version": "3.7.4"
    },
    "colab": {
      "name": "Practice Exercise Question Notebook - Visualizations (2).ipynb",
      "provenance": []
    }
  },
  "cells": [
    {
      "cell_type": "markdown",
      "metadata": {
        "id": "CmZBtEwPrJ57"
      },
      "source": [
        "# Tips Dataset\n",
        "\n",
        "\n",
        "`Data Features:`\n",
        "\n",
        "**total_bill**: a numeric vector, the bill amount (dollars)\n",
        "\n",
        "\n",
        "**tip**: a numeric vector, the tip amount (dollars)\n",
        "\n",
        "\n",
        "**sex**: a factor with levels Female Male, gender of the payer of the bill\n",
        "\n",
        "\n",
        "**smoker**: a factor with levels No Yes, whether the party included smokers\n",
        "\n",
        "\n",
        "**day**: a factor with levels Friday Saturday Sunday Thursday, day of the week\n",
        "\n",
        "\n",
        "**time**: a factor with levels Day Night, rough time of day\n",
        "\n",
        "\n",
        "**size**: a numeric vector, number of people in a table/Party"
      ]
    },
    {
      "cell_type": "markdown",
      "metadata": {
        "id": "v0rpx2Y7rJ6D"
      },
      "source": [
        "### Q1] Import the libraries"
      ]
    },
    {
      "cell_type": "code",
      "metadata": {
        "id": "frVdTQESrJ6E"
      },
      "source": [
        ""
      ],
      "execution_count": null,
      "outputs": []
    },
    {
      "cell_type": "markdown",
      "metadata": {
        "id": "h0aTNUNxrJ6M"
      },
      "source": [
        "### Q2] Get the Dataset. Check info and shape. Display first 5 rows."
      ]
    },
    {
      "cell_type": "code",
      "metadata": {
        "id": "fDppmcO4rJ6M"
      },
      "source": [
        ""
      ],
      "execution_count": null,
      "outputs": []
    },
    {
      "cell_type": "markdown",
      "metadata": {
        "id": "4piILxtqrJ6R"
      },
      "source": [
        "### Q3] Understand the distribution of 'tip' and 'total_bill' using different plots\n",
        "\n",
        "Hint: Use distplot and boxplot"
      ]
    },
    {
      "cell_type": "code",
      "metadata": {
        "id": "kirIbsPqrJ6S"
      },
      "source": [
        ""
      ],
      "execution_count": null,
      "outputs": []
    },
    {
      "cell_type": "markdown",
      "metadata": {
        "id": "HlOkwAodrJ6V"
      },
      "source": [
        "### Q4] Relationship between 'total_bill' and 'tip'\n",
        "\n",
        "Implement jointplot, hex jointplot, pairplot and lmplot"
      ]
    },
    {
      "cell_type": "code",
      "metadata": {
        "id": "ZVsjBxLzrJ6X"
      },
      "source": [
        ""
      ],
      "execution_count": null,
      "outputs": []
    },
    {
      "cell_type": "markdown",
      "metadata": {
        "id": "MkKFzis3rJ6b"
      },
      "source": [
        "### Q5] Make plots to check distribution of tip with different gender. \n",
        "\n",
        "Use striplot and boxplot"
      ]
    },
    {
      "cell_type": "code",
      "metadata": {
        "id": "AlABgSp9rJ6b"
      },
      "source": [
        ""
      ],
      "execution_count": null,
      "outputs": []
    },
    {
      "cell_type": "markdown",
      "metadata": {
        "id": "OhcM6gZ6rJ6e"
      },
      "source": [
        "### Q6] Draw relationship between 'total_bill', 'tip' and 'sex'\n",
        "\n",
        "use lmplot"
      ]
    },
    {
      "cell_type": "code",
      "metadata": {
        "id": "ewSueyHBrJ6e"
      },
      "source": [
        ""
      ],
      "execution_count": null,
      "outputs": []
    },
    {
      "cell_type": "markdown",
      "metadata": {
        "id": "K75jw8fhrJ6h"
      },
      "source": [
        "### Q7] Which day bring in higher bill amount?\n",
        "\n",
        "use stripplot, swarmplot and boxplot"
      ]
    },
    {
      "cell_type": "code",
      "metadata": {
        "id": "CqlfyOFyrJ6i"
      },
      "source": [
        ""
      ],
      "execution_count": null,
      "outputs": []
    },
    {
      "cell_type": "markdown",
      "metadata": {
        "id": "vTDlP6DOrJ6o"
      },
      "source": [
        "### Q8] Find out count of total males and females visiting each day.\n",
        "\n",
        "use countplot"
      ]
    },
    {
      "cell_type": "code",
      "metadata": {
        "id": "B_CDEmhorJ6p"
      },
      "source": [
        ""
      ],
      "execution_count": null,
      "outputs": []
    },
    {
      "cell_type": "markdown",
      "metadata": {
        "id": "SN3u135PrJ6t"
      },
      "source": [
        "### Q9-A] At what time of which day does the restaurant get higher amount of bill (consider for male and female separately)\n",
        "\n",
        "[Hint: use barplot]\n",
        "\n",
        "### Q9-B] At what time of which day does the restaurant get higher amount of tip (consider for male and female separately)\n",
        "\n",
        "[Hint: use lmplot]"
      ]
    },
    {
      "cell_type": "code",
      "metadata": {
        "id": "A5H8QH1krJ6u"
      },
      "source": [
        ""
      ],
      "execution_count": null,
      "outputs": []
    },
    {
      "cell_type": "markdown",
      "metadata": {
        "id": "NsEUfY1qrJ6x"
      },
      "source": [
        "### Q10] Plot graphs for smoker and non-smoker (try drawing relationship with 'tip').\n",
        "\n",
        "use stripplot and boxplot"
      ]
    },
    {
      "cell_type": "code",
      "metadata": {
        "id": "h3hVBa-crJ6y"
      },
      "source": [
        ""
      ],
      "execution_count": null,
      "outputs": []
    },
    {
      "cell_type": "markdown",
      "metadata": {
        "id": "KPD1tuVsrJ62"
      },
      "source": [
        "### Q11] Draw relationship between 'total_bill', 'tip' and 'smokers'"
      ]
    },
    {
      "cell_type": "code",
      "metadata": {
        "id": "3UdKMY-XrJ63"
      },
      "source": [
        ""
      ],
      "execution_count": null,
      "outputs": []
    }
  ]
}