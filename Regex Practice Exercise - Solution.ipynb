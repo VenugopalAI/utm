{
 "cells": [
  {
   "cell_type": "markdown",
   "metadata": {},
   "source": [
    "## Regular Expression Practice Exercise"
   ]
  },
  {
   "cell_type": "markdown",
   "metadata": {},
   "source": [
    "#### Import the random email data file"
   ]
  },
  {
   "cell_type": "code",
   "execution_count": 20,
   "metadata": {},
   "outputs": [],
   "source": [
    "import pandas as pd\n",
    "\n",
    "email_data = pd.read_csv('Random Email Dataset.csv')"
   ]
  },
  {
   "cell_type": "markdown",
   "metadata": {},
   "source": [
    "#### Display the Email ids"
   ]
  },
  {
   "cell_type": "code",
   "execution_count": 21,
   "metadata": {
    "scrolled": true
   },
   "outputs": [
    {
     "data": {
      "text/plain": [
       "0                mnmwuhasdwqweqw\n",
       "1            cynvhupf@gamail.com\n",
       "2            doznfpxy@gamail.com\n",
       "3              ufpgolgelastqxaoi\n",
       "4       rdvafvkummnuj@yahooo.com\n",
       "5        rvkwwlntnchl@yahooo.com\n",
       "6           hrgsyomuf@gamail.com\n",
       "7            spiltjsn@yahooo.com\n",
       "8          mtrhitjlqw@gamail.com\n",
       "9          oerdomqxcb@gamail.com\n",
       "10                  ojsasdweeewq\n",
       "11                    jasdwweeeq\n",
       "12     gilmivlrwnfbss@yahooo.com\n",
       "13      anuaackiokhac@yahooo.com\n",
       "14         roclrzpyjf@gamail.com\n",
       "15           ahsjitbw@gamail.com\n",
       "16               iupwkgasdweqeew\n",
       "17          natzhmxfx@gamail.com\n",
       "18           ungxqtzk@gamail.com\n",
       "19           fbdvsxmz@gamail.com\n",
       "20         dfhjmsfwzo@gamail.com\n",
       "21           fctkqhbr@yahooo.com\n",
       "22           rmykhpek@gamail.com\n",
       "23          bkrfsjbxa@gamail.com\n",
       "24                 rvekpvpupelcp\n",
       "25         cetxcilthi@gamail.com\n",
       "26           fdwtktzb@gamail.com\n",
       "27         cigudlhqgo@yahooo.com\n",
       "28                    gasdeqeqwe\n",
       "29          yhgsbbuwi@gamail.com\n",
       "                 ...            \n",
       "143        dfzlhbnqgn@gamail.com\n",
       "144        jzftqqmsgg@gamail.com\n",
       "145             pdinqfvjkmtoutpe\n",
       "146        wlugzyqlho@gamail.com\n",
       "147         ubacaqudlmkkeiivjhrh\n",
       "148        gqjiromffb@gamail.com\n",
       "149       tingcagmlqe@yahooo.com\n",
       "150     dkhofbftkpelo@yahooo.com\n",
       "151         lzsfpjtao@gamail.com\n",
       "152        zebnwcxgyr@gamail.com\n",
       "153        bexgeucdsh@yahooo.com\n",
       "154                 gxsasdeqqeqw\n",
       "155       muxckttvbpl@yahooo.com\n",
       "156      ewjrfvifdmcj@yahooo.com\n",
       "157                  pkasdeweqew\n",
       "158       bjbkdhrbpru@yahooo.com\n",
       "159          yjxvtmpu@gamail.com\n",
       "160        qplgeulsca@gamail.com\n",
       "161         gqlksquxy@gamail.com\n",
       "162        mryphjpzmy@gamail.com\n",
       "163         zibibnujl@gamail.com\n",
       "164                iowkasdweqwqw\n",
       "165          ptvqlffe@gamail.com\n",
       "166          lzcrsiuo@gamail.com\n",
       "167          iydthkxz@gamail.com\n",
       "168            mpmwehcnjjntjvfnl\n",
       "169       mphibnuxgtr@yahooo.com\n",
       "170                       a@.com\n",
       "171                       .@.com\n",
       "172                         @com\n",
       "Name: Email Address, Length: 173, dtype: object"
      ]
     },
     "execution_count": 21,
     "metadata": {},
     "output_type": "execute_result"
    }
   ],
   "source": [
    "email_data['Email Address']"
   ]
  },
  {
   "cell_type": "markdown",
   "metadata": {},
   "source": [
    "#### FInd the number of gamail email Ids (ending with @gamail.com)"
   ]
  },
  {
   "cell_type": "code",
   "execution_count": 22,
   "metadata": {},
   "outputs": [
    {
     "name": "stdout",
     "output_type": "stream",
     "text": [
      "mnmwuhasdwqweqw||cynvhupf@gamail.com||doznfpxy@gamail.com||ufpgolgelastqxaoi||rdvafvkummnuj@yahooo.com||rvkwwlntnchl@yahooo.com||hrgsyomuf@gamail.com||spiltjsn@yahooo.com||mtrhitjlqw@gamail.com||oerdomqxcb@gamail.com||ojsasdweeewq||jasdwweeeq||gilmivlrwnfbss@yahooo.com||anuaackiokhac@yahooo.com||roclrzpyjf@gamail.com||ahsjitbw@gamail.com||iupwkgasdweqeew||natzhmxfx@gamail.com||ungxqtzk@gamail.com||fbdvsxmz@gamail.com||dfhjmsfwzo@gamail.com||fctkqhbr@yahooo.com||rmykhpek@gamail.com||bkrfsjbxa@gamail.com||rvekpvpupelcp||cetxcilthi@gamail.com||fdwtktzb@gamail.com||cigudlhqgo@yahooo.com||gasdeqeqwe||yhgsbbuwi@gamail.com||axnnkyzfw@gamail.com||mfnuidsdkv@gamail.com||kmqukhckbhk@yahooo.com||bwfasdeqwqww||sidhmibmc@gamail.com||hajdffrjjt@gamail.com||xpkgzqlonx@gamail.com||vfbudpenpu@gamail.com||larmsherg@gamail.com||chfbukyfq@gamail.com||riaotsnqb@yahooo.com||ufhkwbpawf@gamail.com||immznovrvt@gamail.com||uuvjkmvyz@gamail.com||ikxzclcijp@gamail.com||coxkbauib@gamail.com||epuaniefyc@gamail.com||udqxrdnm@yahooo.com||nuguxfaxahhv||yjsrgtbkrc@gamail.com||ajoxctasdwweeqe||giiempwyyb@gamail.com||qdvwzbhkei@gamail.com||okkasdewqeew||okryynvaa@gamail.com||vcywoyuf@gamail.com||qluwgvwiahgr||tbraplsn@gamail.com||lrxxvidjc@gamail.com||jbgpfqchyr@gamail.com||hnublhpdl@gamail.com||crrflbgh@gamail.com||xxhpreasdqeqwww||cqdwbnfkpd@yahooo.com||brkvboow@gamail.com||kvucccrmersslpxove||szpxrjagut@gamail.com||awgzgumb@gamail.com||ckkvrefqd@yahooo.com||cseccgfneb@gamail.com||sruptmen@gamail.com||yvhhukjn@gamail.com||elnhgwcbyv@gamail.com||kjnjlcxwti@yahooo.com||sviqhylb@gamail.com||jqmadasdqwqwww||yadbsvwvg@gamail.com||aaorvyysxf@gamail.com||xjmgparcc@gamail.com||ywcqscai@gamail.com||oxoqdxpgn@yahooo.com||ehzuneriqo@gamail.com||pqwmeexn@gamail.com||xukonboq@gamail.com||dasdwqqwww||rbaphprlucgmjux||amtwzsir@gamail.com||aphoiajgtwxk@yahooo.com||umxsdasdqwqeqq||udfdqqwr@gamail.com||kgbxxhcg@gamail.com||rvymiywr@gamail.com||gucwwzsvna@gamail.com||fetsvhueis@yahooo.com||vyhryvdws@gamail.com||xduplvccf@gamail.com||zaulskbal@gamail.com||zzoincwqj@gamail.com||gjltjnzveh@gamail.com||ncxasdeqwwwe||erbddjgrbovpts@yahooo.com||ctkchmorojwug||dmwzaxraky@gamail.com||lcprqplxuvmh||pkgiyzzek@gamail.com||bettkasdqwwqew||xioqnlwvexjfhwi||axxcclugn@gamail.com||axjwgwrebraowmxkq||pngkfuyi@gamail.com||jwgpyftju@gamail.com||endklheyf@gamail.com||xaygsobmj@gamail.com||hvadllcan@gamail.com||hasdwqeqwe||kjwhthatehggl||sjchuisi@gamail.com||quomwvasdqwewwe||mavxmlrofooa@yahooo.com||essrtfudqedpca||knyxtuhiky@gamail.com||txjtmqrpcucjq@yahooo.com||cvayqkmvp@gamail.com||wsekosltxcflae@yahooo.com||wlkshtyo@gamail.com||ciaswdupft@gamail.com||txbmspprkbwintgh||omgvtomjuujltvimfxqq||easgapxwumww@yahooo.com||sxflxpnlbpmkpxik||ksjaxtoouvadaehfooir||dtphkuwur@gamail.com||rhmasdqeeqwq||rfcgbxvpa@gamail.com||dwqehbqgmhsrqv@yahooo.com||bvvgtffhqenutfqkt||jxdwlnmo@gamail.com||zkpccwuyxg@gamail.com||scrissrlgofe@yahooo.com||dcvqqlgeds@gamail.com||ztvuqejs@gamail.com||vycrqymksj@gamail.com||umivtwugly@gamail.com||dfzlhbnqgn@gamail.com||jzftqqmsgg@gamail.com||pdinqfvjkmtoutpe||wlugzyqlho@gamail.com||ubacaqudlmkkeiivjhrh||gqjiromffb@gamail.com||tingcagmlqe@yahooo.com||dkhofbftkpelo@yahooo.com||lzsfpjtao@gamail.com||zebnwcxgyr@gamail.com||bexgeucdsh@yahooo.com||gxsasdeqqeqw||muxckttvbpl@yahooo.com||ewjrfvifdmcj@yahooo.com||pkasdeweqew||bjbkdhrbpru@yahooo.com||yjxvtmpu@gamail.com||qplgeulsca@gamail.com||gqlksquxy@gamail.com||mryphjpzmy@gamail.com||zibibnujl@gamail.com||iowkasdweqwqw||ptvqlffe@gamail.com||lzcrsiuo@gamail.com||iydthkxz@gamail.com||mpmwehcnjjntjvfnl||mphibnuxgtr@yahooo.com||a@.com|| .@.com|| @com\n"
     ]
    }
   ],
   "source": [
    "import re\n",
    "\n",
    "x = email_data['Email Address']\n",
    "\n",
    "# to be able to use finditer, we need to pass a string. We use the join function to achieve that.\n",
    "#Example of join Functions\n",
    "\n",
    "print('||'.join(x))\n",
    "#here the column Email Address has been converted to a string where each email id is searated by a pipe"
   ]
  },
  {
   "cell_type": "code",
   "execution_count": 23,
   "metadata": {},
   "outputs": [
    {
     "name": "stdout",
     "output_type": "stream",
     "text": [
      "Number of gamail email ids: 100\n"
     ]
    }
   ],
   "source": [
    "#now let us use the joijn to find out the number of email ids with gamail\n",
    "pattern1 = re.compile(r'[a-zA-Z0-9_]@gamail\\.com\\b') #using a space after each address in the pattern\n",
    "matches = pattern1.finditer(' '.join(x)) #using a space after each address as in the pattern which matches with our string\n",
    "counter = 0\n",
    "for mat in matches:\n",
    "    counter = counter+1\n",
    "print('Number of gamail email ids:', counter)"
   ]
  },
  {
   "cell_type": "markdown",
   "metadata": {},
   "source": [
    "#### Find the number of yahooo email Ids (ending with @yahooo.com)"
   ]
  },
  {
   "cell_type": "code",
   "execution_count": 24,
   "metadata": {},
   "outputs": [
    {
     "name": "stdout",
     "output_type": "stream",
     "text": [
      "Number of yahooo email ids: 30\n"
     ]
    }
   ],
   "source": [
    "# We will follow the same approach.\n",
    "pattern2 = re.compile(r'[a-zA-Z0-9_]@yahooo\\.com\\b') #using a space after each address in the pattern\n",
    "matches = pattern2.finditer(' '.join(x)) #using a space after each address as in the pattern which matches with our string\n",
    "counter = 0\n",
    "for mat in matches:\n",
    "    counter = counter+1\n",
    "print('Number of yahooo email ids:', counter)\n"
   ]
  },
  {
   "cell_type": "markdown",
   "metadata": {},
   "source": [
    "#### Find the number of entries that are not email ids (consider the entries that do not have a @ and a .com/.in/.org in them)"
   ]
  },
  {
   "cell_type": "code",
   "execution_count": 27,
   "metadata": {},
   "outputs": [
    {
     "name": "stdout",
     "output_type": "stream",
     "text": [
      "Number of email ids: 130\n",
      "Total Number of non email entries: 43\n"
     ]
    }
   ],
   "source": [
    "pattern3 = re.compile(r'[a-zA-Z0-9_]+@[a-zA-Z0-9_]+\\.com\\b')\n",
    "matches = pattern3.finditer(' '.join(x)) #using a space after each address as in the pattern which matches with our string\n",
    "counter = 0\n",
    "for mat in matches:\n",
    "    counter = counter + 1\n",
    "    #print(mat)\n",
    "email_ids = counter\n",
    "\n",
    "print('Number of email ids:', email_ids)\n",
    "\n",
    "# let us find the total number of non-email data entries\n",
    "total_entries = len(email_data['Email Address'])\n",
    "print('Total Number of non email entries:',total_entries-email_ids)"
   ]
  },
  {
   "cell_type": "markdown",
   "metadata": {},
   "source": [
    "#### find the total entries that have the pattern 'asd' in them"
   ]
  },
  {
   "cell_type": "code",
   "execution_count": 18,
   "metadata": {},
   "outputs": [
    {
     "name": "stdout",
     "output_type": "stream",
     "text": [
      "Number of such patterns: 20\n"
     ]
    }
   ],
   "source": [
    "pattern4 = re.compile(r'asd')\n",
    "matches = pattern4.finditer(' '.join(x))\n",
    "counter = 0\n",
    "for mat in matches:\n",
    "    counter = counter + 1\n",
    "    #print(mat)\n",
    "\n",
    "print('Number of such patterns:', counter)"
   ]
  },
  {
   "cell_type": "markdown",
   "metadata": {},
   "source": [
    "#### find the number of email Ids that start with k"
   ]
  },
  {
   "cell_type": "code",
   "execution_count": 19,
   "metadata": {},
   "outputs": [
    {
     "name": "stdout",
     "output_type": "stream",
     "text": [
      "Number of such email Ids: 4\n"
     ]
    }
   ],
   "source": [
    "pattern5 = re.compile(r'\\b[k][a-zA-Z0-9_]*@[a-zA-Z0-9_]*\\.[a-z]{2,4}\\b')\n",
    "matches = pattern5.finditer(' '.join(x))\n",
    "counter = 0\n",
    "for mat in matches:\n",
    "    counter = counter + 1\n",
    "    #print(mat)\n",
    "\n",
    "print('Number of such email Ids:', counter)"
   ]
  },
  {
   "cell_type": "code",
   "execution_count": null,
   "metadata": {},
   "outputs": [],
   "source": []
  }
 ],
 "metadata": {
  "kernelspec": {
   "display_name": "Python 3",
   "language": "python",
   "name": "python3"
  },
  "language_info": {
   "codemirror_mode": {
    "name": "ipython",
    "version": 3
   },
   "file_extension": ".py",
   "mimetype": "text/x-python",
   "name": "python",
   "nbconvert_exporter": "python",
   "pygments_lexer": "ipython3",
   "version": "3.7.3"
  }
 },
 "nbformat": 4,
 "nbformat_minor": 2
}
