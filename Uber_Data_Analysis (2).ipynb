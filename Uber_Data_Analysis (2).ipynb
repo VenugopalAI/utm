{
 "cells": [
  {
   "cell_type": "markdown",
   "metadata": {
    "id": "DBcX05TS73uH"
   },
   "source": [
    "## Case study  - Uber Data Analysis\n",
    "\n",
    "You have the uber drive data for a driver which captures the differnet aspects of driving behavior. You are a part of the project where you need to grill this data and report the important findings from the grilling and drilling exercise. You also need to provide some useful insights about the trip behaviour of a Uber driver.\n",
    "Let us try to dive into the data with pandas and numpy by our side!\n",
    "\n",
    "#### Dataset - \n",
    "There are two datasets to be used here. The dataset contains-\n",
    "\n",
    "**Uberdrive.csv**\n",
    "- Trip_Id - Id for the trip\n",
    "- Start Date - the date and time of the start of the trip\n",
    "- End Date - the date and time of the end of the trip\n",
    "- Start Location - staring location of the trip \n",
    "- End Location  - location where the trip ended\n",
    "- Purpose of drive - Purpose of the trip (Business, Personal, Meals, Errands, Meetings, Customer Support etc.)\n",
    "\n",
    "\n",
    "**Uberdrive_Miles.csv**\n",
    "- Trip_Id - Id for the trip\n",
    "- Miles Driven  - Total miles driven between the start and the end of the trip\n",
    "\n",
    "#### Objective-\n",
    "\n",
    "The aim is to create a driver profile based on the below aspects on driving behavior.\n",
    "- Name and number of all the unique start and stop points\n",
    "- Popular start and stop points\n",
    "- Rides with same start and stop points\n",
    "- Starting point from which most miles have been driven\n",
    "- Start- stop pairs that are most travelled in terms of distance\n",
    "- busiest month in terms of number of drives and miles driven\n",
    "- busiest day of the week\n",
    "- peak hours\n",
    "- most frequent trip category\n",
    "- most frequent trip purpose\n",
    "- miles driven per category and purpose\n",
    "- percent composition of business miles vs personal miles\n",
    "- time spent per category and purpose\n",
    "\n",
    "----------------------\n",
    " #### Concepts To cover \n",
    "----------------------\n",
    "- 1. <a href = #link1>Overview of the data at hand</a>\n",
    "- 2. <a href = #link3>Filtering Data</a> \n",
    "- 3. <a href = #link2>Data profiling and the functions offered by pandas for understanding the data</a>\n",
    "- 4. <a href = #link4>DateTime operations</a> \n",
    "\n",
    "\n"
   ]
  },
  {
   "cell_type": "code",
   "execution_count": null,
   "metadata": {
    "id": "SY3vuCtI73uN"
   },
   "outputs": [],
   "source": [
    "# Import the libraries \n",
    "import numpy as np\n",
    "import pandas as pd\n",
    "from datetime import datetime"
   ]
  },
  {
   "cell_type": "markdown",
   "metadata": {
    "id": "UcdacxewjqDd"
   },
   "source": [
    "### <a id = \"link1\"></a>Overview of the data"
   ]
  },
  {
   "cell_type": "code",
   "execution_count": null,
   "metadata": {
    "id": "4FvdGEL573uQ"
   },
   "outputs": [],
   "source": [
    "# Read the Data \n",
    "df = pd.read_csv('uberdrive.csv')"
   ]
  },
  {
   "cell_type": "code",
   "execution_count": null,
   "metadata": {
    "colab": {
     "base_uri": "https://localhost:8080/",
     "height": 297
    },
    "id": "rfp142SP73uS",
    "outputId": "7c059e9c-86d7-493f-ba8b-0e2b20289efa",
    "scrolled": true
   },
   "outputs": [
    {
     "data": {
      "text/html": [
       "<div>\n",
       "<style scoped>\n",
       "    .dataframe tbody tr th:only-of-type {\n",
       "        vertical-align: middle;\n",
       "    }\n",
       "\n",
       "    .dataframe tbody tr th {\n",
       "        vertical-align: top;\n",
       "    }\n",
       "\n",
       "    .dataframe thead th {\n",
       "        text-align: right;\n",
       "    }\n",
       "</style>\n",
       "<table border=\"1\" class=\"dataframe\">\n",
       "  <thead>\n",
       "    <tr style=\"text-align: right;\">\n",
       "      <th></th>\n",
       "      <th>Trip_Id</th>\n",
       "      <th>START_DATE*</th>\n",
       "      <th>END_DATE*</th>\n",
       "      <th>CATEGORY*</th>\n",
       "      <th>START*</th>\n",
       "      <th>STOP*</th>\n",
       "      <th>PURPOSE*</th>\n",
       "    </tr>\n",
       "  </thead>\n",
       "  <tbody>\n",
       "    <tr>\n",
       "      <th>0</th>\n",
       "      <td>1</td>\n",
       "      <td>01-01-2016 21:11</td>\n",
       "      <td>01-01-2016 21:17</td>\n",
       "      <td>Business</td>\n",
       "      <td>Fort Pierce</td>\n",
       "      <td>Fort Pierce</td>\n",
       "      <td>Meal/Entertain</td>\n",
       "    </tr>\n",
       "    <tr>\n",
       "      <th>1</th>\n",
       "      <td>2</td>\n",
       "      <td>01-02-2016 01:25</td>\n",
       "      <td>01-02-2016 01:37</td>\n",
       "      <td>Business</td>\n",
       "      <td>Fort Pierce</td>\n",
       "      <td>Fort Pierce</td>\n",
       "      <td>NaN</td>\n",
       "    </tr>\n",
       "    <tr>\n",
       "      <th>2</th>\n",
       "      <td>3</td>\n",
       "      <td>01-02-2016 20:25</td>\n",
       "      <td>01-02-2016 20:38</td>\n",
       "      <td>Business</td>\n",
       "      <td>Fort Pierce</td>\n",
       "      <td>Fort Pierce</td>\n",
       "      <td>Errand/Supplies</td>\n",
       "    </tr>\n",
       "  </tbody>\n",
       "</table>\n",
       "</div>"
      ],
      "text/plain": [
       "   Trip_Id       START_DATE*         END_DATE* CATEGORY*       START*  \\\n",
       "0        1  01-01-2016 21:11  01-01-2016 21:17  Business  Fort Pierce   \n",
       "1        2  01-02-2016 01:25  01-02-2016 01:37  Business  Fort Pierce   \n",
       "2        3  01-02-2016 20:25  01-02-2016 20:38  Business  Fort Pierce   \n",
       "\n",
       "         STOP*         PURPOSE*  \n",
       "0  Fort Pierce   Meal/Entertain  \n",
       "1  Fort Pierce              NaN  \n",
       "2  Fort Pierce  Errand/Supplies  "
      ]
     },
     "execution_count": 102,
     "metadata": {
      "tags": []
     },
     "output_type": "execute_result"
    }
   ],
   "source": [
    "# View first 3 rows of data \n",
    "df.head(3) "
   ]
  },
  {
   "cell_type": "code",
   "execution_count": null,
   "metadata": {
    "id": "TYRpS9KWjqDf"
   },
   "outputs": [],
   "source": [
    "df_miles = pd.read_csv('UberDrive_Miles.csv')"
   ]
  },
  {
   "cell_type": "code",
   "execution_count": null,
   "metadata": {
    "id": "ItQdTrU4jqDf",
    "outputId": "3c906a61-cfe4-4597-eee9-3bf89bc83206"
   },
   "outputs": [
    {
     "data": {
      "text/html": [
       "<div>\n",
       "<style scoped>\n",
       "    .dataframe tbody tr th:only-of-type {\n",
       "        vertical-align: middle;\n",
       "    }\n",
       "\n",
       "    .dataframe tbody tr th {\n",
       "        vertical-align: top;\n",
       "    }\n",
       "\n",
       "    .dataframe thead th {\n",
       "        text-align: right;\n",
       "    }\n",
       "</style>\n",
       "<table border=\"1\" class=\"dataframe\">\n",
       "  <thead>\n",
       "    <tr style=\"text-align: right;\">\n",
       "      <th></th>\n",
       "      <th>Trip_Id</th>\n",
       "      <th>MILES*</th>\n",
       "    </tr>\n",
       "  </thead>\n",
       "  <tbody>\n",
       "    <tr>\n",
       "      <th>1152</th>\n",
       "      <td>1153</td>\n",
       "      <td>16.2</td>\n",
       "    </tr>\n",
       "    <tr>\n",
       "      <th>1153</th>\n",
       "      <td>1154</td>\n",
       "      <td>6.4</td>\n",
       "    </tr>\n",
       "    <tr>\n",
       "      <th>1154</th>\n",
       "      <td>1155</td>\n",
       "      <td>48.2</td>\n",
       "    </tr>\n",
       "  </tbody>\n",
       "</table>\n",
       "</div>"
      ],
      "text/plain": [
       "      Trip_Id  MILES*\n",
       "1152     1153    16.2\n",
       "1153     1154     6.4\n",
       "1154     1155    48.2"
      ]
     },
     "execution_count": 104,
     "metadata": {
      "tags": []
     },
     "output_type": "execute_result"
    }
   ],
   "source": [
    "df_miles.tail(3)"
   ]
  },
  {
   "cell_type": "code",
   "execution_count": null,
   "metadata": {
    "colab": {
     "base_uri": "https://localhost:8080/",
     "height": 51
    },
    "id": "oG5qPCEa73uY",
    "outputId": "7a36d667-5349-466a-cf7e-a52d42987aae"
   },
   "outputs": [
    {
     "name": "stdout",
     "output_type": "stream",
     "text": [
      "(1155, 7)\n",
      "8085\n"
     ]
    }
   ],
   "source": [
    "# understand shape and size of data from Uberdrive\n",
    "print(df.shape)\n",
    "print(df.size)"
   ]
  },
  {
   "cell_type": "code",
   "execution_count": null,
   "metadata": {
    "id": "wkRe1HmjjqDg",
    "outputId": "73c8069c-1387-4cc0-8c8d-cf2273ae5169"
   },
   "outputs": [
    {
     "name": "stdout",
     "output_type": "stream",
     "text": [
      "<class 'pandas.core.frame.DataFrame'>\n",
      "RangeIndex: 1155 entries, 0 to 1154\n",
      "Data columns (total 7 columns):\n",
      "Trip_Id        1155 non-null int64\n",
      "START_DATE*    1155 non-null object\n",
      "END_DATE*      1155 non-null object\n",
      "CATEGORY*      1155 non-null object\n",
      "START*         1155 non-null object\n",
      "STOP*          1155 non-null object\n",
      "PURPOSE*       653 non-null object\n",
      "dtypes: int64(1), object(6)\n",
      "memory usage: 63.2+ KB\n",
      "\n",
      "<class 'pandas.core.frame.DataFrame'>\n",
      "RangeIndex: 1155 entries, 0 to 1154\n",
      "Data columns (total 2 columns):\n",
      "Trip_Id    1155 non-null int64\n",
      "MILES*     1155 non-null float64\n",
      "dtypes: float64(1), int64(1)\n",
      "memory usage: 18.1 KB\n"
     ]
    }
   ],
   "source": [
    "# check info about data (includes column names, the number of non-null values in it, and data-type for each column.)\n",
    "df.info()\n",
    "print()\n",
    "df_miles.info()"
   ]
  },
  {
   "cell_type": "markdown",
   "metadata": {
    "id": "Omq73OvI73uf"
   },
   "source": [
    "1. PURPOSE column has lots of missing values  - **We will talk about handling missing values in the upcoming weeks**\n",
    "2. Some of the columns have a 1155 records while there are others with 653, why is that? Lets explore\n",
    "3. We see some updates can be made in the column names, lets rename the columns"
   ]
  },
  {
   "cell_type": "markdown",
   "metadata": {
    "id": "PgNx3U4j73ux"
   },
   "source": [
    "### Renaming columns"
   ]
  },
  {
   "cell_type": "code",
   "execution_count": null,
   "metadata": {
    "colab": {
     "base_uri": "https://localhost:8080/",
     "height": 204
    },
    "id": "j0YgTTz-73ux",
    "outputId": "92bc3544-8f0f-4b70-d3e7-156b676c777b"
   },
   "outputs": [
    {
     "name": "stdout",
     "output_type": "stream",
     "text": [
      "Index(['Trip_Id', 'START_DATE', 'END_DATE', 'CATEGORY', 'START', 'STOP',\n",
      "       'PURPOSE'],\n",
      "      dtype='object') \n",
      " Index(['Trip_Id', 'MILES'], dtype='object')\n"
     ]
    }
   ],
   "source": [
    "# Approach 1\n",
    "# Replace the * character from all the  columns\n",
    "df.columns = df.columns.str.replace(\"*\", \"\")\n",
    "\n",
    "# Approach 2\n",
    "#\n",
    "# You can also rename the specific column names \n",
    "df_miles.rename(columns = {'MILES*':'MILES'}, inplace=True)\n",
    "print(df.columns,\"\\n\", df_miles.columns)"
   ]
  },
  {
   "cell_type": "markdown",
   "metadata": {
    "id": "okKeivRdjqDi"
   },
   "source": [
    "**The column names were updated.**"
   ]
  },
  {
   "cell_type": "markdown",
   "metadata": {
    "id": "Ebt8vpgH73u3"
   },
   "source": [
    "### <a id = \"link3\"></a>Filtering dataframes\n",
    "#### Using null values"
   ]
  },
  {
   "cell_type": "code",
   "execution_count": null,
   "metadata": {
    "colab": {
     "base_uri": "https://localhost:8080/",
     "height": 419
    },
    "id": "AA1Def0u73u3",
    "outputId": "06b8ba30-5d85-45d8-8bbb-fcacd907526b",
    "scrolled": false
   },
   "outputs": [
    {
     "data": {
      "text/html": [
       "<div>\n",
       "<style scoped>\n",
       "    .dataframe tbody tr th:only-of-type {\n",
       "        vertical-align: middle;\n",
       "    }\n",
       "\n",
       "    .dataframe tbody tr th {\n",
       "        vertical-align: top;\n",
       "    }\n",
       "\n",
       "    .dataframe thead th {\n",
       "        text-align: right;\n",
       "    }\n",
       "</style>\n",
       "<table border=\"1\" class=\"dataframe\">\n",
       "  <thead>\n",
       "    <tr style=\"text-align: right;\">\n",
       "      <th></th>\n",
       "      <th>Trip_Id</th>\n",
       "      <th>START_DATE</th>\n",
       "      <th>END_DATE</th>\n",
       "      <th>CATEGORY</th>\n",
       "      <th>START</th>\n",
       "      <th>STOP</th>\n",
       "      <th>PURPOSE</th>\n",
       "    </tr>\n",
       "  </thead>\n",
       "  <tbody>\n",
       "    <tr>\n",
       "      <th>1</th>\n",
       "      <td>2</td>\n",
       "      <td>01-02-2016 01:25</td>\n",
       "      <td>01-02-2016 01:37</td>\n",
       "      <td>Business</td>\n",
       "      <td>Fort Pierce</td>\n",
       "      <td>Fort Pierce</td>\n",
       "      <td>NaN</td>\n",
       "    </tr>\n",
       "    <tr>\n",
       "      <th>32</th>\n",
       "      <td>33</td>\n",
       "      <td>1/19/2016 9:09</td>\n",
       "      <td>1/19/2016 9:23</td>\n",
       "      <td>Business</td>\n",
       "      <td>Whitebridge</td>\n",
       "      <td>Lake Wellingborough</td>\n",
       "      <td>NaN</td>\n",
       "    </tr>\n",
       "    <tr>\n",
       "      <th>85</th>\n",
       "      <td>86</td>\n",
       "      <td>02-09-2016 10:54</td>\n",
       "      <td>02-09-2016 11:07</td>\n",
       "      <td>Personal</td>\n",
       "      <td>Whitebridge</td>\n",
       "      <td>Northwoods</td>\n",
       "      <td>NaN</td>\n",
       "    </tr>\n",
       "    <tr>\n",
       "      <th>86</th>\n",
       "      <td>87</td>\n",
       "      <td>02-09-2016 11:43</td>\n",
       "      <td>02-09-2016 11:50</td>\n",
       "      <td>Personal</td>\n",
       "      <td>Northwoods</td>\n",
       "      <td>Tanglewood</td>\n",
       "      <td>NaN</td>\n",
       "    </tr>\n",
       "    <tr>\n",
       "      <th>87</th>\n",
       "      <td>88</td>\n",
       "      <td>02-09-2016 13:36</td>\n",
       "      <td>02-09-2016 13:52</td>\n",
       "      <td>Personal</td>\n",
       "      <td>Tanglewood</td>\n",
       "      <td>Preston</td>\n",
       "      <td>NaN</td>\n",
       "    </tr>\n",
       "  </tbody>\n",
       "</table>\n",
       "</div>"
      ],
      "text/plain": [
       "    Trip_Id        START_DATE          END_DATE  CATEGORY        START  \\\n",
       "1         2  01-02-2016 01:25  01-02-2016 01:37  Business  Fort Pierce   \n",
       "32       33    1/19/2016 9:09    1/19/2016 9:23  Business  Whitebridge   \n",
       "85       86  02-09-2016 10:54  02-09-2016 11:07  Personal  Whitebridge   \n",
       "86       87  02-09-2016 11:43  02-09-2016 11:50  Personal   Northwoods   \n",
       "87       88  02-09-2016 13:36  02-09-2016 13:52  Personal   Tanglewood   \n",
       "\n",
       "                   STOP PURPOSE  \n",
       "1           Fort Pierce     NaN  \n",
       "32  Lake Wellingborough     NaN  \n",
       "85           Northwoods     NaN  \n",
       "86           Tanglewood     NaN  \n",
       "87              Preston     NaN  "
      ]
     },
     "execution_count": 108,
     "metadata": {
      "tags": []
     },
     "output_type": "execute_result"
    }
   ],
   "source": [
    "# shows the top 5 entries where PURPOSE is null\n",
    "df[df.PURPOSE.isnull()].head(5)"
   ]
  },
  {
   "cell_type": "markdown",
   "metadata": {
    "id": "0mGILHvP73u5"
   },
   "source": [
    "\n",
    "#### Filtering out records based on conditions"
   ]
  },
  {
   "cell_type": "code",
   "execution_count": null,
   "metadata": {
    "colab": {
     "base_uri": "https://localhost:8080/",
     "height": 1000
    },
    "id": "x3eNeRib73u5",
    "outputId": "2f75e4e2-9c8f-4a10-bc9b-5dfad1b7a96a"
   },
   "outputs": [
    {
     "data": {
      "text/html": [
       "<div>\n",
       "<style scoped>\n",
       "    .dataframe tbody tr th:only-of-type {\n",
       "        vertical-align: middle;\n",
       "    }\n",
       "\n",
       "    .dataframe tbody tr th {\n",
       "        vertical-align: top;\n",
       "    }\n",
       "\n",
       "    .dataframe thead th {\n",
       "        text-align: right;\n",
       "    }\n",
       "</style>\n",
       "<table border=\"1\" class=\"dataframe\">\n",
       "  <thead>\n",
       "    <tr style=\"text-align: right;\">\n",
       "      <th></th>\n",
       "      <th>Trip_Id</th>\n",
       "      <th>MILES</th>\n",
       "    </tr>\n",
       "  </thead>\n",
       "  <tbody>\n",
       "    <tr>\n",
       "      <th>4</th>\n",
       "      <td>5</td>\n",
       "      <td>63.7</td>\n",
       "    </tr>\n",
       "    <tr>\n",
       "      <th>36</th>\n",
       "      <td>37</td>\n",
       "      <td>40.2</td>\n",
       "    </tr>\n",
       "    <tr>\n",
       "      <th>108</th>\n",
       "      <td>109</td>\n",
       "      <td>43.7</td>\n",
       "    </tr>\n",
       "    <tr>\n",
       "      <th>232</th>\n",
       "      <td>233</td>\n",
       "      <td>136.0</td>\n",
       "    </tr>\n",
       "    <tr>\n",
       "      <th>233</th>\n",
       "      <td>234</td>\n",
       "      <td>30.2</td>\n",
       "    </tr>\n",
       "  </tbody>\n",
       "</table>\n",
       "</div>"
      ],
      "text/plain": [
       "     Trip_Id  MILES\n",
       "4          5   63.7\n",
       "36        37   40.2\n",
       "108      109   43.7\n",
       "232      233  136.0\n",
       "233      234   30.2"
      ]
     },
     "execution_count": 109,
     "metadata": {
      "tags": []
     },
     "output_type": "execute_result"
    }
   ],
   "source": [
    "# Conditions within dataframe \n",
    "df_miles[df_miles['MILES'] > 30].head()"
   ]
  },
  {
   "cell_type": "markdown",
   "metadata": {
    "id": "8jSvBLWi73vR"
   },
   "source": [
    "## <a id = \"link2\"></a>In a bid to create the driver profile, lets explore the data parameter wise - \n",
    "\n",
    "- 1.Destination - (starting and stopping)\n",
    "\n",
    "- 2.Time - (hour of the day, day of week, month of year)\n",
    "\n",
    "- 3.Grouping two parameters to get more insights\n",
    "\n",
    "- 4.Category and Purpose"
   ]
  },
  {
   "cell_type": "markdown",
   "metadata": {
    "id": "UAamyoph73vR"
   },
   "source": [
    "## 1. Destination\n",
    "### Understanding  the start and stop points \n",
    "###### Through the feature, we will try to understand the below points of the driver profile. \n",
    "- Name and number of all the unique start and stop points\n",
    "- Popular start and stop points\n",
    "- Rides with same start and stop points\n",
    "- Starting point from which most miles have been driven\n",
    "- Start- stop pairs that are most travelled in terms of distance\n",
    "\n",
    "**Let us handle these one by one**"
   ]
  },
  {
   "cell_type": "markdown",
   "metadata": {
    "id": "vt3uGICkjqDk"
   },
   "source": [
    "**1. Name and Number of all unique start and stop points**"
   ]
  },
  {
   "cell_type": "code",
   "execution_count": null,
   "metadata": {
    "colab": {
     "base_uri": "https://localhost:8080/",
     "height": 629
    },
    "id": "nmE7R0d473vS",
    "outputId": "f313f8be-54c5-42a8-eeb4-9ac3b254befe"
   },
   "outputs": [
    {
     "name": "stdout",
     "output_type": "stream",
     "text": [
      "['Fort Pierce' 'West Palm Beach' 'Cary' 'Jamaica' 'New York' 'Elmhurst'\n",
      " 'Midtown' 'East Harlem' 'Flatiron District' 'Midtown East'\n",
      " 'Hudson Square' 'Lower Manhattan' \"Hell's Kitchen\" 'Downtown' 'Gulfton'\n",
      " 'Houston' 'Eagan Park' 'Morrisville' 'Durham' 'Farmington Woods'\n",
      " 'Whitebridge' 'Lake Wellingborough' 'Fayetteville Street' 'Raleigh'\n",
      " 'Hazelwood' 'Fairmont' 'Meredith Townes' 'Apex' 'Chapel Hill'\n",
      " 'Northwoods' 'Edgehill Farms' 'Tanglewood' 'Preston' 'Eastgate'\n",
      " 'East Elmhurst' 'Jackson Heights' 'Long Island City' 'Katunayaka'\n",
      " 'Unknown Location' 'Colombo' 'Nugegoda' 'Islamabad' 'R?walpindi'\n",
      " 'Noorpur Shahan' 'Heritage Pines' 'Westpark Place' 'Waverly Place'\n",
      " 'Wayne Ridge' 'Weston' 'East Austin' 'West University' 'South Congress'\n",
      " 'The Drag' 'Congress Ave District' 'Red River District' 'Georgian Acres'\n",
      " 'North Austin' 'Coxville' 'Convention Center District' 'Austin' 'Katy'\n",
      " 'Sharpstown' 'Sugar Land' 'Galveston' 'Port Bolivar' 'Washington Avenue'\n",
      " 'Briar Meadow' 'Latta' 'Jacksonville' 'Couples Glen' 'Kissimmee'\n",
      " 'Lake Reams' 'Orlando' 'Sand Lake Commons' 'Sky Lake' 'Daytona Beach'\n",
      " 'Ridgeland' 'Florence' 'Meredith' 'Holly Springs' 'Chessington'\n",
      " 'Burtrose' 'Parkway' 'Mcvan' 'Capitol One' 'University District'\n",
      " 'Seattle' 'Redmond' 'Bellevue' 'San Francisco' 'Palo Alto' 'Sunnyvale'\n",
      " 'Newark' 'Menlo Park' 'Old City' 'Savon Height' 'Kilarney Woods'\n",
      " 'Townes at Everett Crossing' 'Huntington Woods' 'Seaport'\n",
      " 'Medical Centre' 'Rose Hill' 'Soho' 'Tribeca' 'Financial District'\n",
      " 'Oakland' 'Emeryville' 'Berkeley' 'Kenner' 'CBD' 'Lower Garden District'\n",
      " 'Lakeview' 'Storyville' 'New Orleans' 'Metairie' 'Chalmette' 'Arabi'\n",
      " 'Pontchartrain Shores' 'Marigny' 'Covington' 'Mandeville'\n",
      " 'Jamestown Court' 'Summerwinds' 'Parkwood' 'Pontchartrain Beach'\n",
      " 'St Thomas' 'Banner Elk' 'Elk Park' 'Newland' 'Boone' 'Stonewater'\n",
      " 'Lexington Park at Amberly' 'Arlington Park at Amberly' 'Arlington'\n",
      " 'Kalorama Triangle' 'K Street' 'West End' 'Connecticut Avenue'\n",
      " 'Columbia Heights' 'Washington' 'Wake Forest' 'Lahore' 'Karachi'\n",
      " 'SOMISSPO' 'West Berkeley' 'North Berkeley Hills' 'San Jose' 'Eagle Rock'\n",
      " 'Winston Salem' 'Asheville' 'Topton' 'Hayesville' 'Bryson City' 'Almond'\n",
      " 'Mebane' 'Agnew' 'Cory' 'Renaissance' 'Santa Clara' 'NOMA' 'Sunnyside'\n",
      " 'Ingleside' 'Central' 'Tenderloin' 'College Avenue' 'South' 'Southside'\n",
      " 'South Berkeley' 'Mountain View' 'El Cerrito' 'Krendle Woods' 'Wake Co.'\n",
      " 'Fuquay-Varina' 'Rawalpindi' 'Kar?chi' 'Katunayake' 'Gampaha']\n"
     ]
    }
   ],
   "source": [
    "# Get the unique starting point, unique destination\n",
    "# names of unique start points\n",
    "print(df['START'].unique())"
   ]
  },
  {
   "cell_type": "code",
   "execution_count": null,
   "metadata": {
    "colab": {
     "base_uri": "https://localhost:8080/",
     "height": 34
    },
    "id": "SFUlm5TW73vW",
    "outputId": "91b89857-4af6-4c68-b7e4-6a43decca54b"
   },
   "outputs": [
    {
     "name": "stdout",
     "output_type": "stream",
     "text": [
      "177\n"
     ]
    }
   ],
   "source": [
    "print(df['START'].nunique())                           # or use can use the nunique function"
   ]
  },
  {
   "cell_type": "code",
   "execution_count": null,
   "metadata": {
    "colab": {
     "base_uri": "https://localhost:8080/",
     "height": 680
    },
    "id": "MNH8DaQ773vY",
    "outputId": "5ca7c9ac-266d-4cd8-9016-b9bdc09dd4a7"
   },
   "outputs": [
    {
     "name": "stdout",
     "output_type": "stream",
     "text": [
      "['Fort Pierce' 'West Palm Beach' 'Palm Beach' 'Cary' 'Morrisville'\n",
      " 'New York' 'Queens' 'East Harlem' 'NoMad' 'Midtown' 'Midtown East'\n",
      " 'Hudson Square' 'Lower Manhattan' \"Hell's Kitchen\" 'Queens County'\n",
      " 'Gulfton' 'Downtown' 'Houston' 'Jamestown Court' 'Durham' 'Whitebridge'\n",
      " 'Lake Wellingborough' 'Raleigh' 'Umstead' 'Hazelwood' 'Westpark Place'\n",
      " 'Meredith Townes' 'Leesville Hollow' 'Apex' 'Chapel Hill'\n",
      " 'Williamsburg Manor' 'Macgregor Downs' 'Edgehill Farms' 'Northwoods'\n",
      " 'Tanglewood' 'Preston' 'Walnut Terrace' 'Jackson Heights' 'East Elmhurst'\n",
      " 'Midtown West' 'Long Island City' 'Jamaica' 'Unknown Location' 'Colombo'\n",
      " 'Nugegoda' 'Katunayaka' 'Islamabad' 'R?walpindi' 'Noorpur Shahan'\n",
      " 'Heritage Pines' 'Waverly Place' 'Wayne Ridge' 'Depot Historic District'\n",
      " 'Weston' 'West University' 'South Congress' 'Arts District'\n",
      " 'Congress Ave District' 'Red River District' 'The Drag'\n",
      " 'Convention Center District' 'North Austin' 'Coxville' 'Katy' 'Alief'\n",
      " 'Sharpstown' 'Sugar Land' 'Galveston' 'Port Bolivar' 'Washington Avenue'\n",
      " 'Briar Meadow' 'Greater Greenspoint' 'Latta' 'Jacksonville' 'Kissimmee'\n",
      " 'Isles of Buena Vista' 'Orlando' 'Lake Reams' 'Vista East' 'Sky Lake'\n",
      " 'Sand Lake Commons' 'Daytona Beach' 'Ridgeland' 'Florence' 'Cedar Hill'\n",
      " 'Holly Springs' 'Harden Place' 'Chessington' 'Burtrose' 'Parkway'\n",
      " 'Capitol One' 'University District' 'Redmond' 'Bellevue' 'Seattle'\n",
      " 'Mcvan' 'Palo Alto' 'Sunnyvale' 'Newark' 'Menlo Park' 'San Francisco'\n",
      " 'Parkway Museums' 'Hog Island' 'Savon Height' 'Kildaire Farms'\n",
      " 'Kilarney Woods' 'Gramercy-Flatiron' 'Tudor City' 'Soho' 'Tribeca'\n",
      " 'Financial District' 'Kips Bay' 'Emeryville' 'Berkeley' 'Oakland'\n",
      " 'Bay Farm Island' 'New Orleans' 'Lower Garden District' 'Lakeview'\n",
      " 'Storyville' 'Faubourg Marigny' 'Metairie' 'Kenner' 'Bywater' 'Chalmette'\n",
      " 'Arabi' 'Pontchartrain Shores' 'Marigny' 'Covington' 'Mandeville'\n",
      " 'Summerwinds' 'Parkwood' 'Pontchartrain Beach' 'CBD' 'St Thomas'\n",
      " 'Banner Elk' 'Elk Park' 'Newland' 'Boone' 'Stonewater'\n",
      " 'Lexington Park at Amberly' 'Arlington Park at Amberly' 'Washington'\n",
      " 'K Street' 'Kalorama Triangle' 'Northwest Rectangle' 'Columbia Heights'\n",
      " 'Arlington' 'Farmington Woods' 'Wake Forest' 'Lahore' 'Karachi'\n",
      " 'French Quarter' 'North Berkeley Hills' 'Southside' 'San Jose'\n",
      " 'Eagle Rock' 'Huntington Woods' 'Winston Salem' 'Asheville' 'Topton'\n",
      " 'Hayesville' 'Bryson City' 'Almond' 'Mebane' 'Santa Clara' 'Cory' 'Agnew'\n",
      " 'Renaissance' 'West Berkeley' 'Central' 'Sunnyside' 'Ingleside'\n",
      " 'Potrero Flats' 'SOMISSPO' 'Tenderloin' 'College Avenue' 'South'\n",
      " 'Southwest Berkeley' 'South Berkeley' 'Mountain View' 'El Cerrito'\n",
      " 'Wake Co.' 'Fuquay-Varina' 'Rawalpindi' 'Kar?chi' 'Gampaha' 'Ilukwatta']\n"
     ]
    }
   ],
   "source": [
    "# Get the names of stopping destinations, unique destinations\n",
    "# Names of unique stopping points\n",
    "print(df['STOP'].unique())"
   ]
  },
  {
   "cell_type": "code",
   "execution_count": null,
   "metadata": {
    "colab": {
     "base_uri": "https://localhost:8080/",
     "height": 34
    },
    "id": "3O2iTz9j73va",
    "outputId": "08f687f9-d25d-4f82-8393-3118a91c9474",
    "scrolled": false
   },
   "outputs": [
    {
     "name": "stdout",
     "output_type": "stream",
     "text": [
      "188\n"
     ]
    }
   ],
   "source": [
    "print(len(df['STOP'].unique()))            # count of unique stopping points"
   ]
  },
  {
   "cell_type": "markdown",
   "metadata": {
    "id": "ki30jr-UjqDl"
   },
   "source": [
    "**2a. Identify popular start points - top 10**"
   ]
  },
  {
   "cell_type": "code",
   "execution_count": null,
   "metadata": {
    "colab": {
     "base_uri": "https://localhost:8080/",
     "height": 204
    },
    "id": "IdfGWVrR73vj",
    "outputId": "b201847d-212d-40dc-8d23-ffd5df88d4f1",
    "scrolled": true
   },
   "outputs": [
    {
     "data": {
      "text/plain": [
       "Cary                201\n",
       "Unknown Location    148\n",
       "Morrisville          85\n",
       "Whitebridge          68\n",
       "Islamabad            57\n",
       "Durham               37\n",
       "Lahore               36\n",
       "Raleigh              28\n",
       "Kar?chi              27\n",
       "Apex                 17\n",
       "Name: START, dtype: int64"
      ]
     },
     "execution_count": 114,
     "metadata": {
      "tags": []
     },
     "output_type": "execute_result"
    }
   ],
   "source": [
    "df['START'].value_counts().head(10)"
   ]
  },
  {
   "cell_type": "markdown",
   "metadata": {
    "id": "tmMxPKP0jqDl"
   },
   "source": [
    "**2b. Identify popular stop destinations - top 10**"
   ]
  },
  {
   "cell_type": "code",
   "execution_count": null,
   "metadata": {
    "colab": {
     "base_uri": "https://localhost:8080/",
     "height": 204
    },
    "id": "0_VAzZd573vl",
    "outputId": "44fe8603-afb2-448c-884d-661ff9e150e4",
    "scrolled": true
   },
   "outputs": [
    {
     "data": {
      "text/plain": [
       "Cary                203\n",
       "Unknown Location    149\n",
       "Morrisville          84\n",
       "Whitebridge          65\n",
       "Islamabad            58\n",
       "Durham               36\n",
       "Lahore               36\n",
       "Raleigh              29\n",
       "Kar?chi              26\n",
       "Apex                 17\n",
       "Name: STOP, dtype: int64"
      ]
     },
     "execution_count": 115,
     "metadata": {
      "tags": []
     },
     "output_type": "execute_result"
    }
   ],
   "source": [
    "\n",
    "df['STOP'].value_counts().head(10)"
   ]
  },
  {
   "cell_type": "markdown",
   "metadata": {
    "id": "JVl4EJQCjqDm"
   },
   "source": [
    "**3.  Are there cases where the start and the stop location are the same  ?**"
   ]
  },
  {
   "cell_type": "code",
   "execution_count": null,
   "metadata": {
    "colab": {
     "base_uri": "https://localhost:8080/",
     "height": 419
    },
    "id": "ax8JSeaj73vn",
    "outputId": "eee25698-a344-45da-fd11-7297c3b0219c",
    "scrolled": true
   },
   "outputs": [
    {
     "data": {
      "text/html": [
       "<div>\n",
       "<style scoped>\n",
       "    .dataframe tbody tr th:only-of-type {\n",
       "        vertical-align: middle;\n",
       "    }\n",
       "\n",
       "    .dataframe tbody tr th {\n",
       "        vertical-align: top;\n",
       "    }\n",
       "\n",
       "    .dataframe thead th {\n",
       "        text-align: right;\n",
       "    }\n",
       "</style>\n",
       "<table border=\"1\" class=\"dataframe\">\n",
       "  <thead>\n",
       "    <tr style=\"text-align: right;\">\n",
       "      <th></th>\n",
       "      <th>Trip_Id</th>\n",
       "      <th>START_DATE</th>\n",
       "      <th>END_DATE</th>\n",
       "      <th>CATEGORY</th>\n",
       "      <th>START</th>\n",
       "      <th>STOP</th>\n",
       "      <th>PURPOSE</th>\n",
       "    </tr>\n",
       "  </thead>\n",
       "  <tbody>\n",
       "    <tr>\n",
       "      <th>0</th>\n",
       "      <td>1</td>\n",
       "      <td>01-01-2016 21:11</td>\n",
       "      <td>01-01-2016 21:17</td>\n",
       "      <td>Business</td>\n",
       "      <td>Fort Pierce</td>\n",
       "      <td>Fort Pierce</td>\n",
       "      <td>Meal/Entertain</td>\n",
       "    </tr>\n",
       "    <tr>\n",
       "      <th>1</th>\n",
       "      <td>2</td>\n",
       "      <td>01-02-2016 01:25</td>\n",
       "      <td>01-02-2016 01:37</td>\n",
       "      <td>Business</td>\n",
       "      <td>Fort Pierce</td>\n",
       "      <td>Fort Pierce</td>\n",
       "      <td>NaN</td>\n",
       "    </tr>\n",
       "    <tr>\n",
       "      <th>2</th>\n",
       "      <td>3</td>\n",
       "      <td>01-02-2016 20:25</td>\n",
       "      <td>01-02-2016 20:38</td>\n",
       "      <td>Business</td>\n",
       "      <td>Fort Pierce</td>\n",
       "      <td>Fort Pierce</td>\n",
       "      <td>Errand/Supplies</td>\n",
       "    </tr>\n",
       "    <tr>\n",
       "      <th>3</th>\n",
       "      <td>4</td>\n",
       "      <td>01-05-2016 17:31</td>\n",
       "      <td>01-05-2016 17:45</td>\n",
       "      <td>Business</td>\n",
       "      <td>Fort Pierce</td>\n",
       "      <td>Fort Pierce</td>\n",
       "      <td>Meeting</td>\n",
       "    </tr>\n",
       "    <tr>\n",
       "      <th>5</th>\n",
       "      <td>6</td>\n",
       "      <td>01-06-2016 17:15</td>\n",
       "      <td>01-06-2016 17:19</td>\n",
       "      <td>Business</td>\n",
       "      <td>West Palm Beach</td>\n",
       "      <td>West Palm Beach</td>\n",
       "      <td>Meal/Entertain</td>\n",
       "    </tr>\n",
       "  </tbody>\n",
       "</table>\n",
       "</div>"
      ],
      "text/plain": [
       "   Trip_Id        START_DATE          END_DATE  CATEGORY            START  \\\n",
       "0        1  01-01-2016 21:11  01-01-2016 21:17  Business      Fort Pierce   \n",
       "1        2  01-02-2016 01:25  01-02-2016 01:37  Business      Fort Pierce   \n",
       "2        3  01-02-2016 20:25  01-02-2016 20:38  Business      Fort Pierce   \n",
       "3        4  01-05-2016 17:31  01-05-2016 17:45  Business      Fort Pierce   \n",
       "5        6  01-06-2016 17:15  01-06-2016 17:19  Business  West Palm Beach   \n",
       "\n",
       "              STOP          PURPOSE  \n",
       "0      Fort Pierce   Meal/Entertain  \n",
       "1      Fort Pierce              NaN  \n",
       "2      Fort Pierce  Errand/Supplies  \n",
       "3      Fort Pierce          Meeting  \n",
       "5  West Palm Beach   Meal/Entertain  "
      ]
     },
     "execution_count": 116,
     "metadata": {
      "tags": []
     },
     "output_type": "execute_result"
    }
   ],
   "source": [
    "df[df['START'] == df['STOP']].head(5)"
   ]
  },
  {
   "cell_type": "code",
   "execution_count": null,
   "metadata": {
    "id": "CWFGmt2djqDm",
    "outputId": "55d2d7fc-b8a4-4933-988c-3d5f1084fe1e",
    "scrolled": true
   },
   "outputs": [
    {
     "data": {
      "text/plain": [
       "(288, 7)"
      ]
     },
     "execution_count": 117,
     "metadata": {
      "tags": []
     },
     "output_type": "execute_result"
    }
   ],
   "source": [
    "df[df['START'] == df['STOP']].shape"
   ]
  },
  {
   "cell_type": "markdown",
   "metadata": {
    "id": "4Vwn8ov2jqDm"
   },
   "source": [
    "**288 trips have the same start and stop points**"
   ]
  },
  {
   "cell_type": "markdown",
   "metadata": {
    "id": "d8F_7jKZjqDm"
   },
   "source": [
    "**4.Starting point from which the most miles have been driven**\n",
    "\n",
    "**In order to use the miles feature, let us now merge the two dataframes so that the all the information is in one dataframe.**\n",
    "- using merge \n"
   ]
  },
  {
   "cell_type": "code",
   "execution_count": null,
   "metadata": {
    "id": "MLBPQNyRjqDm",
    "outputId": "4aafb08d-e602-4f49-8f99-5b3c6f7f682b",
    "scrolled": true
   },
   "outputs": [
    {
     "data": {
      "text/html": [
       "<div>\n",
       "<style scoped>\n",
       "    .dataframe tbody tr th:only-of-type {\n",
       "        vertical-align: middle;\n",
       "    }\n",
       "\n",
       "    .dataframe tbody tr th {\n",
       "        vertical-align: top;\n",
       "    }\n",
       "\n",
       "    .dataframe thead th {\n",
       "        text-align: right;\n",
       "    }\n",
       "</style>\n",
       "<table border=\"1\" class=\"dataframe\">\n",
       "  <thead>\n",
       "    <tr style=\"text-align: right;\">\n",
       "      <th></th>\n",
       "      <th>Trip_Id</th>\n",
       "      <th>START_DATE</th>\n",
       "      <th>END_DATE</th>\n",
       "      <th>CATEGORY</th>\n",
       "      <th>START</th>\n",
       "      <th>STOP</th>\n",
       "      <th>PURPOSE</th>\n",
       "      <th>MILES</th>\n",
       "    </tr>\n",
       "  </thead>\n",
       "  <tbody>\n",
       "    <tr>\n",
       "      <th>0</th>\n",
       "      <td>1</td>\n",
       "      <td>01-01-2016 21:11</td>\n",
       "      <td>01-01-2016 21:17</td>\n",
       "      <td>Business</td>\n",
       "      <td>Fort Pierce</td>\n",
       "      <td>Fort Pierce</td>\n",
       "      <td>Meal/Entertain</td>\n",
       "      <td>5.1</td>\n",
       "    </tr>\n",
       "    <tr>\n",
       "      <th>1</th>\n",
       "      <td>2</td>\n",
       "      <td>01-02-2016 01:25</td>\n",
       "      <td>01-02-2016 01:37</td>\n",
       "      <td>Business</td>\n",
       "      <td>Fort Pierce</td>\n",
       "      <td>Fort Pierce</td>\n",
       "      <td>NaN</td>\n",
       "      <td>5.0</td>\n",
       "    </tr>\n",
       "    <tr>\n",
       "      <th>2</th>\n",
       "      <td>3</td>\n",
       "      <td>01-02-2016 20:25</td>\n",
       "      <td>01-02-2016 20:38</td>\n",
       "      <td>Business</td>\n",
       "      <td>Fort Pierce</td>\n",
       "      <td>Fort Pierce</td>\n",
       "      <td>Errand/Supplies</td>\n",
       "      <td>4.8</td>\n",
       "    </tr>\n",
       "    <tr>\n",
       "      <th>3</th>\n",
       "      <td>4</td>\n",
       "      <td>01-05-2016 17:31</td>\n",
       "      <td>01-05-2016 17:45</td>\n",
       "      <td>Business</td>\n",
       "      <td>Fort Pierce</td>\n",
       "      <td>Fort Pierce</td>\n",
       "      <td>Meeting</td>\n",
       "      <td>4.7</td>\n",
       "    </tr>\n",
       "    <tr>\n",
       "      <th>4</th>\n",
       "      <td>5</td>\n",
       "      <td>01-06-2016 14:42</td>\n",
       "      <td>01-06-2016 15:49</td>\n",
       "      <td>Business</td>\n",
       "      <td>Fort Pierce</td>\n",
       "      <td>West Palm Beach</td>\n",
       "      <td>Customer Visit</td>\n",
       "      <td>63.7</td>\n",
       "    </tr>\n",
       "  </tbody>\n",
       "</table>\n",
       "</div>"
      ],
      "text/plain": [
       "   Trip_Id        START_DATE          END_DATE  CATEGORY        START  \\\n",
       "0        1  01-01-2016 21:11  01-01-2016 21:17  Business  Fort Pierce   \n",
       "1        2  01-02-2016 01:25  01-02-2016 01:37  Business  Fort Pierce   \n",
       "2        3  01-02-2016 20:25  01-02-2016 20:38  Business  Fort Pierce   \n",
       "3        4  01-05-2016 17:31  01-05-2016 17:45  Business  Fort Pierce   \n",
       "4        5  01-06-2016 14:42  01-06-2016 15:49  Business  Fort Pierce   \n",
       "\n",
       "              STOP          PURPOSE  MILES  \n",
       "0      Fort Pierce   Meal/Entertain    5.1  \n",
       "1      Fort Pierce              NaN    5.0  \n",
       "2      Fort Pierce  Errand/Supplies    4.8  \n",
       "3      Fort Pierce          Meeting    4.7  \n",
       "4  West Palm Beach   Customer Visit   63.7  "
      ]
     },
     "execution_count": 118,
     "metadata": {
      "tags": []
     },
     "output_type": "execute_result"
    }
   ],
   "source": [
    "df = pd.merge(df, df_miles, on = 'Trip_Id', how = 'left')\n",
    "df.head(5)"
   ]
  },
  {
   "cell_type": "markdown",
   "metadata": {
    "id": "BCSFe-qKjqDn"
   },
   "source": [
    "**Let's now use groupby function to find the starting point from which the most miles have been driven**"
   ]
  },
  {
   "cell_type": "code",
   "execution_count": null,
   "metadata": {
    "colab": {
     "base_uri": "https://localhost:8080/",
     "height": 221
    },
    "id": "I1oDU0J-73vr",
    "outputId": "3794aca1-8d5a-4e1b-f17c-53155cd90bdd",
    "scrolled": false
   },
   "outputs": [
    {
     "data": {
      "text/plain": [
       "START\n",
       "Unknown Location    1976.5\n",
       "Cary                1791.3\n",
       "Morrisville          671.7\n",
       "Raleigh              433.0\n",
       "Islamabad            401.2\n",
       "Durham               384.4\n",
       "Jacksonville         375.2\n",
       "Latta                310.3\n",
       "Asheville            287.7\n",
       "Whitebridge          273.4\n",
       "Name: MILES, dtype: float64"
      ]
     },
     "execution_count": 119,
     "metadata": {
      "tags": []
     },
     "output_type": "execute_result"
    }
   ],
   "source": [
    "df.groupby('START')['MILES'].sum().sort_values(ascending = False ).head(10)"
   ]
  },
  {
   "cell_type": "markdown",
   "metadata": {
    "id": "vZAK9oCujqDn"
   },
   "source": [
    "**5. Find the top10 start stop pair that have the most miles covered between them ever.**"
   ]
  },
  {
   "cell_type": "markdown",
   "metadata": {
    "id": "sN8WmJMa73vu"
   },
   "source": [
    "# Let us drop the unknown locations\n",
    "df2 = df[df['START'] != 'Unknown Location']             # Makes a new dataframe, which don't have \"Unknown Location\" as starting point\n",
    "df2 = df2[df2['STOP'] != 'Unknown Location']            # Further updates the df2 dataframe, by removing \"Unknown Location\" as stopping point"
   ]
  },
  {
   "cell_type": "code",
   "execution_count": null,
   "metadata": {
    "colab": {
     "base_uri": "https://localhost:8080/",
     "height": 300
    },
    "id": "Qzix_S2V73vu",
    "outputId": "639a15f5-bdf7-4dbf-8dc7-35a0db4e718e",
    "scrolled": true
   },
   "outputs": [
    {
     "data": {
      "text/html": [
       "<div>\n",
       "<style scoped>\n",
       "    .dataframe tbody tr th:only-of-type {\n",
       "        vertical-align: middle;\n",
       "    }\n",
       "\n",
       "    .dataframe tbody tr th {\n",
       "        vertical-align: top;\n",
       "    }\n",
       "\n",
       "    .dataframe thead th {\n",
       "        text-align: right;\n",
       "    }\n",
       "</style>\n",
       "<table border=\"1\" class=\"dataframe\">\n",
       "  <thead>\n",
       "    <tr style=\"text-align: right;\">\n",
       "      <th></th>\n",
       "      <th>START</th>\n",
       "      <th>STOP</th>\n",
       "      <th>MILES</th>\n",
       "      <th>Start-Stop</th>\n",
       "    </tr>\n",
       "  </thead>\n",
       "  <tbody>\n",
       "    <tr>\n",
       "      <th>0</th>\n",
       "      <td>Morrisville</td>\n",
       "      <td>Cary</td>\n",
       "      <td>395.7</td>\n",
       "      <td>Morrisville - Cary</td>\n",
       "    </tr>\n",
       "    <tr>\n",
       "      <th>1</th>\n",
       "      <td>Cary</td>\n",
       "      <td>Durham</td>\n",
       "      <td>390.0</td>\n",
       "      <td>Cary - Durham</td>\n",
       "    </tr>\n",
       "    <tr>\n",
       "      <th>2</th>\n",
       "      <td>Cary</td>\n",
       "      <td>Morrisville</td>\n",
       "      <td>380.0</td>\n",
       "      <td>Cary - Morrisville</td>\n",
       "    </tr>\n",
       "    <tr>\n",
       "      <th>3</th>\n",
       "      <td>Raleigh</td>\n",
       "      <td>Cary</td>\n",
       "      <td>365.7</td>\n",
       "      <td>Raleigh - Cary</td>\n",
       "    </tr>\n",
       "    <tr>\n",
       "      <th>4</th>\n",
       "      <td>Cary</td>\n",
       "      <td>Raleigh</td>\n",
       "      <td>336.5</td>\n",
       "      <td>Cary - Raleigh</td>\n",
       "    </tr>\n",
       "    <tr>\n",
       "      <th>5</th>\n",
       "      <td>Durham</td>\n",
       "      <td>Cary</td>\n",
       "      <td>334.4</td>\n",
       "      <td>Durham - Cary</td>\n",
       "    </tr>\n",
       "    <tr>\n",
       "      <th>6</th>\n",
       "      <td>Latta</td>\n",
       "      <td>Jacksonville</td>\n",
       "      <td>310.3</td>\n",
       "      <td>Latta - Jacksonville</td>\n",
       "    </tr>\n",
       "    <tr>\n",
       "      <th>7</th>\n",
       "      <td>Cary</td>\n",
       "      <td>Cary</td>\n",
       "      <td>255.9</td>\n",
       "      <td>Cary - Cary</td>\n",
       "    </tr>\n",
       "    <tr>\n",
       "      <th>8</th>\n",
       "      <td>Jacksonville</td>\n",
       "      <td>Kissimmee</td>\n",
       "      <td>201.0</td>\n",
       "      <td>Jacksonville - Kissimmee</td>\n",
       "    </tr>\n",
       "    <tr>\n",
       "      <th>9</th>\n",
       "      <td>Asheville</td>\n",
       "      <td>Mebane</td>\n",
       "      <td>195.9</td>\n",
       "      <td>Asheville - Mebane</td>\n",
       "    </tr>\n",
       "  </tbody>\n",
       "</table>\n",
       "</div>"
      ],
      "text/plain": [
       "          START          STOP  MILES                Start-Stop\n",
       "0   Morrisville          Cary  395.7        Morrisville - Cary\n",
       "1          Cary        Durham  390.0             Cary - Durham\n",
       "2          Cary   Morrisville  380.0        Cary - Morrisville\n",
       "3       Raleigh          Cary  365.7            Raleigh - Cary\n",
       "4          Cary       Raleigh  336.5            Cary - Raleigh\n",
       "5        Durham          Cary  334.4             Durham - Cary\n",
       "6         Latta  Jacksonville  310.3      Latta - Jacksonville\n",
       "7          Cary          Cary  255.9               Cary - Cary\n",
       "8  Jacksonville     Kissimmee  201.0  Jacksonville - Kissimmee\n",
       "9     Asheville        Mebane  195.9        Asheville - Mebane"
      ]
     },
     "execution_count": 121,
     "metadata": {
      "tags": []
     },
     "output_type": "execute_result"
    }
   ],
   "source": [
    "# Creating a dataframe with the top 10 most miles covered between a start stop pair\n",
    "\n",
    "k3 = df2.groupby(['START','STOP'])['MILES'].sum().sort_values(ascending=False).head(10) \n",
    "k3= k3.reset_index() # flatten the dataframe \n",
    "k3['Start-Stop'] = k3['START'] + ' - ' + k3['STOP']\n",
    "k3 = df2.groupby(['START','STOP'])['MILES'].sum().sort_values(ascending=False).head(10) \n",
    "k3= k3.reset_index() # flatten the dataframe \n",
    "k3['Start-Stop'] = k3['START'] + ' - ' + k3['STOP']\n",
    "k3"
   ]
  },
  {
   "cell_type": "markdown",
   "metadata": {
    "id": "12S-vpsk73v8"
   },
   "source": [
    "**The most popular start to destination pair is Morrisville-Cary**"
   ]
  },
  {
   "cell_type": "markdown",
   "metadata": {
    "id": "AEuPLlqK73v8"
   },
   "source": [
    "<a id = \"link4\"></a>\n",
    "## 2. Start Date - End Date \n",
    "### Manipulating date & time objects\n",
    "#### Lets explore the variables using the below points-\n",
    "- busiest month in terms of number of drives and miles driven\n",
    "- busiest day of the week and preferred start hour \n",
    "- peak hours\n",
    "\n",
    "We will create more features for the trip data to be able to cater to above profile mappings"
   ]
  },
  {
   "cell_type": "code",
   "execution_count": null,
   "metadata": {
    "colab": {
     "base_uri": "https://localhost:8080/",
     "height": 204
    },
    "id": "aMvHdBEA73v9",
    "outputId": "c19995a9-3de5-4626-eb2f-b3e176900b48"
   },
   "outputs": [
    {
     "data": {
      "text/html": [
       "<div>\n",
       "<style scoped>\n",
       "    .dataframe tbody tr th:only-of-type {\n",
       "        vertical-align: middle;\n",
       "    }\n",
       "\n",
       "    .dataframe tbody tr th {\n",
       "        vertical-align: top;\n",
       "    }\n",
       "\n",
       "    .dataframe thead th {\n",
       "        text-align: right;\n",
       "    }\n",
       "</style>\n",
       "<table border=\"1\" class=\"dataframe\">\n",
       "  <thead>\n",
       "    <tr style=\"text-align: right;\">\n",
       "      <th></th>\n",
       "      <th>Trip_Id</th>\n",
       "      <th>START_DATE</th>\n",
       "      <th>END_DATE</th>\n",
       "      <th>CATEGORY</th>\n",
       "      <th>START</th>\n",
       "      <th>STOP</th>\n",
       "      <th>PURPOSE</th>\n",
       "      <th>MILES</th>\n",
       "    </tr>\n",
       "  </thead>\n",
       "  <tbody>\n",
       "    <tr>\n",
       "      <th>0</th>\n",
       "      <td>1</td>\n",
       "      <td>01-01-2016 21:11</td>\n",
       "      <td>01-01-2016 21:17</td>\n",
       "      <td>Business</td>\n",
       "      <td>Fort Pierce</td>\n",
       "      <td>Fort Pierce</td>\n",
       "      <td>Meal/Entertain</td>\n",
       "      <td>5.1</td>\n",
       "    </tr>\n",
       "    <tr>\n",
       "      <th>1</th>\n",
       "      <td>2</td>\n",
       "      <td>01-02-2016 01:25</td>\n",
       "      <td>01-02-2016 01:37</td>\n",
       "      <td>Business</td>\n",
       "      <td>Fort Pierce</td>\n",
       "      <td>Fort Pierce</td>\n",
       "      <td>NaN</td>\n",
       "      <td>5.0</td>\n",
       "    </tr>\n",
       "    <tr>\n",
       "      <th>2</th>\n",
       "      <td>3</td>\n",
       "      <td>01-02-2016 20:25</td>\n",
       "      <td>01-02-2016 20:38</td>\n",
       "      <td>Business</td>\n",
       "      <td>Fort Pierce</td>\n",
       "      <td>Fort Pierce</td>\n",
       "      <td>Errand/Supplies</td>\n",
       "      <td>4.8</td>\n",
       "    </tr>\n",
       "  </tbody>\n",
       "</table>\n",
       "</div>"
      ],
      "text/plain": [
       "   Trip_Id        START_DATE          END_DATE  CATEGORY        START  \\\n",
       "0        1  01-01-2016 21:11  01-01-2016 21:17  Business  Fort Pierce   \n",
       "1        2  01-02-2016 01:25  01-02-2016 01:37  Business  Fort Pierce   \n",
       "2        3  01-02-2016 20:25  01-02-2016 20:38  Business  Fort Pierce   \n",
       "\n",
       "          STOP          PURPOSE  MILES  \n",
       "0  Fort Pierce   Meal/Entertain    5.1  \n",
       "1  Fort Pierce              NaN    5.0  \n",
       "2  Fort Pierce  Errand/Supplies    4.8  "
      ]
     },
     "execution_count": 122,
     "metadata": {
      "tags": []
     },
     "output_type": "execute_result"
    }
   ],
   "source": [
    "df.head(3)"
   ]
  },
  {
   "cell_type": "code",
   "execution_count": null,
   "metadata": {
    "colab": {
     "base_uri": "https://localhost:8080/",
     "height": 153
    },
    "id": "x73FrX-C73v_",
    "outputId": "7b0313d5-db44-4770-bb5d-328d79608930",
    "scrolled": true
   },
   "outputs": [
    {
     "data": {
      "text/plain": [
       "Trip_Id         int64\n",
       "START_DATE     object\n",
       "END_DATE       object\n",
       "CATEGORY       object\n",
       "START          object\n",
       "STOP           object\n",
       "PURPOSE        object\n",
       "MILES         float64\n",
       "dtype: object"
      ]
     },
     "execution_count": 123,
     "metadata": {
      "tags": []
     },
     "output_type": "execute_result"
    }
   ],
   "source": [
    "df.dtypes"
   ]
  },
  {
   "cell_type": "code",
   "execution_count": null,
   "metadata": {
    "id": "0wu_rDvC73wB"
   },
   "outputs": [],
   "source": [
    "# Create columns by converting the start and end date into a datatime format\n",
    "# You can also over write the same column - but for the sake of understanding the difference in formats, we create new columns\n",
    "\n",
    "df['start_dt'] = pd.to_datetime(df['START_DATE'])\n",
    "df['end_dt'] = pd.to_datetime(df['END_DATE'])"
   ]
  },
  {
   "cell_type": "code",
   "execution_count": null,
   "metadata": {
    "colab": {
     "base_uri": "https://localhost:8080/",
     "height": 204
    },
    "id": "mzEZTrdZ73wD",
    "outputId": "2b1424da-4c94-42c6-a5b1-4d89bc851c69"
   },
   "outputs": [
    {
     "data": {
      "text/html": [
       "<div>\n",
       "<style scoped>\n",
       "    .dataframe tbody tr th:only-of-type {\n",
       "        vertical-align: middle;\n",
       "    }\n",
       "\n",
       "    .dataframe tbody tr th {\n",
       "        vertical-align: top;\n",
       "    }\n",
       "\n",
       "    .dataframe thead th {\n",
       "        text-align: right;\n",
       "    }\n",
       "</style>\n",
       "<table border=\"1\" class=\"dataframe\">\n",
       "  <thead>\n",
       "    <tr style=\"text-align: right;\">\n",
       "      <th></th>\n",
       "      <th>Trip_Id</th>\n",
       "      <th>START_DATE</th>\n",
       "      <th>END_DATE</th>\n",
       "      <th>CATEGORY</th>\n",
       "      <th>START</th>\n",
       "      <th>STOP</th>\n",
       "      <th>PURPOSE</th>\n",
       "      <th>MILES</th>\n",
       "      <th>start_dt</th>\n",
       "      <th>end_dt</th>\n",
       "    </tr>\n",
       "  </thead>\n",
       "  <tbody>\n",
       "    <tr>\n",
       "      <th>0</th>\n",
       "      <td>1</td>\n",
       "      <td>01-01-2016 21:11</td>\n",
       "      <td>01-01-2016 21:17</td>\n",
       "      <td>Business</td>\n",
       "      <td>Fort Pierce</td>\n",
       "      <td>Fort Pierce</td>\n",
       "      <td>Meal/Entertain</td>\n",
       "      <td>5.1</td>\n",
       "      <td>2016-01-01 21:11:00</td>\n",
       "      <td>2016-01-01 21:17:00</td>\n",
       "    </tr>\n",
       "    <tr>\n",
       "      <th>1</th>\n",
       "      <td>2</td>\n",
       "      <td>01-02-2016 01:25</td>\n",
       "      <td>01-02-2016 01:37</td>\n",
       "      <td>Business</td>\n",
       "      <td>Fort Pierce</td>\n",
       "      <td>Fort Pierce</td>\n",
       "      <td>NaN</td>\n",
       "      <td>5.0</td>\n",
       "      <td>2016-01-02 01:25:00</td>\n",
       "      <td>2016-01-02 01:37:00</td>\n",
       "    </tr>\n",
       "    <tr>\n",
       "      <th>2</th>\n",
       "      <td>3</td>\n",
       "      <td>01-02-2016 20:25</td>\n",
       "      <td>01-02-2016 20:38</td>\n",
       "      <td>Business</td>\n",
       "      <td>Fort Pierce</td>\n",
       "      <td>Fort Pierce</td>\n",
       "      <td>Errand/Supplies</td>\n",
       "      <td>4.8</td>\n",
       "      <td>2016-01-02 20:25:00</td>\n",
       "      <td>2016-01-02 20:38:00</td>\n",
       "    </tr>\n",
       "    <tr>\n",
       "      <th>3</th>\n",
       "      <td>4</td>\n",
       "      <td>01-05-2016 17:31</td>\n",
       "      <td>01-05-2016 17:45</td>\n",
       "      <td>Business</td>\n",
       "      <td>Fort Pierce</td>\n",
       "      <td>Fort Pierce</td>\n",
       "      <td>Meeting</td>\n",
       "      <td>4.7</td>\n",
       "      <td>2016-01-05 17:31:00</td>\n",
       "      <td>2016-01-05 17:45:00</td>\n",
       "    </tr>\n",
       "    <tr>\n",
       "      <th>4</th>\n",
       "      <td>5</td>\n",
       "      <td>01-06-2016 14:42</td>\n",
       "      <td>01-06-2016 15:49</td>\n",
       "      <td>Business</td>\n",
       "      <td>Fort Pierce</td>\n",
       "      <td>West Palm Beach</td>\n",
       "      <td>Customer Visit</td>\n",
       "      <td>63.7</td>\n",
       "      <td>2016-01-06 14:42:00</td>\n",
       "      <td>2016-01-06 15:49:00</td>\n",
       "    </tr>\n",
       "  </tbody>\n",
       "</table>\n",
       "</div>"
      ],
      "text/plain": [
       "   Trip_Id        START_DATE          END_DATE  CATEGORY        START  \\\n",
       "0        1  01-01-2016 21:11  01-01-2016 21:17  Business  Fort Pierce   \n",
       "1        2  01-02-2016 01:25  01-02-2016 01:37  Business  Fort Pierce   \n",
       "2        3  01-02-2016 20:25  01-02-2016 20:38  Business  Fort Pierce   \n",
       "3        4  01-05-2016 17:31  01-05-2016 17:45  Business  Fort Pierce   \n",
       "4        5  01-06-2016 14:42  01-06-2016 15:49  Business  Fort Pierce   \n",
       "\n",
       "              STOP          PURPOSE  MILES            start_dt  \\\n",
       "0      Fort Pierce   Meal/Entertain    5.1 2016-01-01 21:11:00   \n",
       "1      Fort Pierce              NaN    5.0 2016-01-02 01:25:00   \n",
       "2      Fort Pierce  Errand/Supplies    4.8 2016-01-02 20:25:00   \n",
       "3      Fort Pierce          Meeting    4.7 2016-01-05 17:31:00   \n",
       "4  West Palm Beach   Customer Visit   63.7 2016-01-06 14:42:00   \n",
       "\n",
       "               end_dt  \n",
       "0 2016-01-01 21:17:00  \n",
       "1 2016-01-02 01:37:00  \n",
       "2 2016-01-02 20:38:00  \n",
       "3 2016-01-05 17:45:00  \n",
       "4 2016-01-06 15:49:00  "
      ]
     },
     "execution_count": 125,
     "metadata": {
      "tags": []
     },
     "output_type": "execute_result"
    }
   ],
   "source": [
    "df.head()             # Print first 5 rows of data."
   ]
  },
  {
   "cell_type": "code",
   "execution_count": null,
   "metadata": {
    "colab": {
     "base_uri": "https://localhost:8080/",
     "height": 187
    },
    "id": "-ViyTibxKhM-",
    "outputId": "4a2a4e57-c58a-491d-dc6d-16c083d29cda"
   },
   "outputs": [
    {
     "data": {
      "text/plain": [
       "Trip_Id                int64\n",
       "START_DATE            object\n",
       "END_DATE              object\n",
       "CATEGORY              object\n",
       "START                 object\n",
       "STOP                  object\n",
       "PURPOSE               object\n",
       "MILES                float64\n",
       "start_dt      datetime64[ns]\n",
       "end_dt        datetime64[ns]\n",
       "dtype: object"
      ]
     },
     "execution_count": 126,
     "metadata": {
      "tags": []
     },
     "output_type": "execute_result"
    }
   ],
   "source": [
    "df.dtypes             # See how the dtype is different"
   ]
  },
  {
   "cell_type": "code",
   "execution_count": null,
   "metadata": {
    "id": "BUjYhgB173wH"
   },
   "outputs": [],
   "source": [
    "# Create more columns by using the inbuilt functionalities of datatime module\n",
    "\n",
    "df['start_day'] = df['start_dt'].dt.day\n",
    "df['start_hour'] = df['start_dt'].dt.hour\n",
    "df['start_month'] = df['start_dt'].dt.month\n",
    "df['d_of_wk'] = df['start_dt'].dt.dayofweek   # Days encoded as 0-6  ( monday =0, Tue =1 .... )"
   ]
  },
  {
   "cell_type": "code",
   "execution_count": null,
   "metadata": {
    "id": "Snw6YSyHjqDp",
    "outputId": "efb6e94a-8a76-4544-dd02-3ebafca128bd"
   },
   "outputs": [
    {
     "data": {
      "text/html": [
       "<div>\n",
       "<style scoped>\n",
       "    .dataframe tbody tr th:only-of-type {\n",
       "        vertical-align: middle;\n",
       "    }\n",
       "\n",
       "    .dataframe tbody tr th {\n",
       "        vertical-align: top;\n",
       "    }\n",
       "\n",
       "    .dataframe thead th {\n",
       "        text-align: right;\n",
       "    }\n",
       "</style>\n",
       "<table border=\"1\" class=\"dataframe\">\n",
       "  <thead>\n",
       "    <tr style=\"text-align: right;\">\n",
       "      <th></th>\n",
       "      <th>0</th>\n",
       "      <th>1</th>\n",
       "      <th>2</th>\n",
       "      <th>3</th>\n",
       "      <th>4</th>\n",
       "    </tr>\n",
       "  </thead>\n",
       "  <tbody>\n",
       "    <tr>\n",
       "      <th>Trip_Id</th>\n",
       "      <td>1</td>\n",
       "      <td>2</td>\n",
       "      <td>3</td>\n",
       "      <td>4</td>\n",
       "      <td>5</td>\n",
       "    </tr>\n",
       "    <tr>\n",
       "      <th>START_DATE</th>\n",
       "      <td>01-01-2016 21:11</td>\n",
       "      <td>01-02-2016 01:25</td>\n",
       "      <td>01-02-2016 20:25</td>\n",
       "      <td>01-05-2016 17:31</td>\n",
       "      <td>01-06-2016 14:42</td>\n",
       "    </tr>\n",
       "    <tr>\n",
       "      <th>END_DATE</th>\n",
       "      <td>01-01-2016 21:17</td>\n",
       "      <td>01-02-2016 01:37</td>\n",
       "      <td>01-02-2016 20:38</td>\n",
       "      <td>01-05-2016 17:45</td>\n",
       "      <td>01-06-2016 15:49</td>\n",
       "    </tr>\n",
       "    <tr>\n",
       "      <th>CATEGORY</th>\n",
       "      <td>Business</td>\n",
       "      <td>Business</td>\n",
       "      <td>Business</td>\n",
       "      <td>Business</td>\n",
       "      <td>Business</td>\n",
       "    </tr>\n",
       "    <tr>\n",
       "      <th>START</th>\n",
       "      <td>Fort Pierce</td>\n",
       "      <td>Fort Pierce</td>\n",
       "      <td>Fort Pierce</td>\n",
       "      <td>Fort Pierce</td>\n",
       "      <td>Fort Pierce</td>\n",
       "    </tr>\n",
       "    <tr>\n",
       "      <th>STOP</th>\n",
       "      <td>Fort Pierce</td>\n",
       "      <td>Fort Pierce</td>\n",
       "      <td>Fort Pierce</td>\n",
       "      <td>Fort Pierce</td>\n",
       "      <td>West Palm Beach</td>\n",
       "    </tr>\n",
       "    <tr>\n",
       "      <th>PURPOSE</th>\n",
       "      <td>Meal/Entertain</td>\n",
       "      <td>NaN</td>\n",
       "      <td>Errand/Supplies</td>\n",
       "      <td>Meeting</td>\n",
       "      <td>Customer Visit</td>\n",
       "    </tr>\n",
       "    <tr>\n",
       "      <th>MILES</th>\n",
       "      <td>5.1</td>\n",
       "      <td>5</td>\n",
       "      <td>4.8</td>\n",
       "      <td>4.7</td>\n",
       "      <td>63.7</td>\n",
       "    </tr>\n",
       "    <tr>\n",
       "      <th>start_dt</th>\n",
       "      <td>2016-01-01 21:11:00</td>\n",
       "      <td>2016-01-02 01:25:00</td>\n",
       "      <td>2016-01-02 20:25:00</td>\n",
       "      <td>2016-01-05 17:31:00</td>\n",
       "      <td>2016-01-06 14:42:00</td>\n",
       "    </tr>\n",
       "    <tr>\n",
       "      <th>end_dt</th>\n",
       "      <td>2016-01-01 21:17:00</td>\n",
       "      <td>2016-01-02 01:37:00</td>\n",
       "      <td>2016-01-02 20:38:00</td>\n",
       "      <td>2016-01-05 17:45:00</td>\n",
       "      <td>2016-01-06 15:49:00</td>\n",
       "    </tr>\n",
       "    <tr>\n",
       "      <th>start_day</th>\n",
       "      <td>1</td>\n",
       "      <td>2</td>\n",
       "      <td>2</td>\n",
       "      <td>5</td>\n",
       "      <td>6</td>\n",
       "    </tr>\n",
       "    <tr>\n",
       "      <th>start_hour</th>\n",
       "      <td>21</td>\n",
       "      <td>1</td>\n",
       "      <td>20</td>\n",
       "      <td>17</td>\n",
       "      <td>14</td>\n",
       "    </tr>\n",
       "    <tr>\n",
       "      <th>start_month</th>\n",
       "      <td>1</td>\n",
       "      <td>1</td>\n",
       "      <td>1</td>\n",
       "      <td>1</td>\n",
       "      <td>1</td>\n",
       "    </tr>\n",
       "    <tr>\n",
       "      <th>d_of_wk</th>\n",
       "      <td>4</td>\n",
       "      <td>5</td>\n",
       "      <td>5</td>\n",
       "      <td>1</td>\n",
       "      <td>2</td>\n",
       "    </tr>\n",
       "  </tbody>\n",
       "</table>\n",
       "</div>"
      ],
      "text/plain": [
       "                               0                    1                    2  \\\n",
       "Trip_Id                        1                    2                    3   \n",
       "START_DATE      01-01-2016 21:11     01-02-2016 01:25     01-02-2016 20:25   \n",
       "END_DATE        01-01-2016 21:17     01-02-2016 01:37     01-02-2016 20:38   \n",
       "CATEGORY                Business             Business             Business   \n",
       "START                Fort Pierce          Fort Pierce          Fort Pierce   \n",
       "STOP                 Fort Pierce          Fort Pierce          Fort Pierce   \n",
       "PURPOSE           Meal/Entertain                  NaN      Errand/Supplies   \n",
       "MILES                        5.1                    5                  4.8   \n",
       "start_dt     2016-01-01 21:11:00  2016-01-02 01:25:00  2016-01-02 20:25:00   \n",
       "end_dt       2016-01-01 21:17:00  2016-01-02 01:37:00  2016-01-02 20:38:00   \n",
       "start_day                      1                    2                    2   \n",
       "start_hour                    21                    1                   20   \n",
       "start_month                    1                    1                    1   \n",
       "d_of_wk                        4                    5                    5   \n",
       "\n",
       "                               3                    4  \n",
       "Trip_Id                        4                    5  \n",
       "START_DATE      01-05-2016 17:31     01-06-2016 14:42  \n",
       "END_DATE        01-05-2016 17:45     01-06-2016 15:49  \n",
       "CATEGORY                Business             Business  \n",
       "START                Fort Pierce          Fort Pierce  \n",
       "STOP                 Fort Pierce      West Palm Beach  \n",
       "PURPOSE                  Meeting       Customer Visit  \n",
       "MILES                        4.7                 63.7  \n",
       "start_dt     2016-01-05 17:31:00  2016-01-06 14:42:00  \n",
       "end_dt       2016-01-05 17:45:00  2016-01-06 15:49:00  \n",
       "start_day                      5                    6  \n",
       "start_hour                    17                   14  \n",
       "start_month                    1                    1  \n",
       "d_of_wk                        1                    2  "
      ]
     },
     "execution_count": 128,
     "metadata": {
      "tags": []
     },
     "output_type": "execute_result"
    }
   ],
   "source": [
    "df.head().T"
   ]
  },
  {
   "cell_type": "code",
   "execution_count": null,
   "metadata": {
    "id": "ZPsOvrKm73wL"
   },
   "outputs": [],
   "source": [
    "df['weekday'] = df['start_dt'].apply(lambda x : datetime.strftime(x,'%a'))  # ( or directly convert into the short form)"
   ]
  },
  {
   "cell_type": "code",
   "execution_count": null,
   "metadata": {
    "id": "gPowYL2DjqDq",
    "outputId": "0c090465-c52f-4f6d-aa68-65c4db0cb16b",
    "scrolled": true
   },
   "outputs": [
    {
     "data": {
      "text/html": [
       "<div>\n",
       "<style scoped>\n",
       "    .dataframe tbody tr th:only-of-type {\n",
       "        vertical-align: middle;\n",
       "    }\n",
       "\n",
       "    .dataframe tbody tr th {\n",
       "        vertical-align: top;\n",
       "    }\n",
       "\n",
       "    .dataframe thead th {\n",
       "        text-align: right;\n",
       "    }\n",
       "</style>\n",
       "<table border=\"1\" class=\"dataframe\">\n",
       "  <thead>\n",
       "    <tr style=\"text-align: right;\">\n",
       "      <th></th>\n",
       "      <th>0</th>\n",
       "      <th>1</th>\n",
       "      <th>2</th>\n",
       "      <th>3</th>\n",
       "      <th>4</th>\n",
       "    </tr>\n",
       "  </thead>\n",
       "  <tbody>\n",
       "    <tr>\n",
       "      <th>Trip_Id</th>\n",
       "      <td>1</td>\n",
       "      <td>2</td>\n",
       "      <td>3</td>\n",
       "      <td>4</td>\n",
       "      <td>5</td>\n",
       "    </tr>\n",
       "    <tr>\n",
       "      <th>START_DATE</th>\n",
       "      <td>01-01-2016 21:11</td>\n",
       "      <td>01-02-2016 01:25</td>\n",
       "      <td>01-02-2016 20:25</td>\n",
       "      <td>01-05-2016 17:31</td>\n",
       "      <td>01-06-2016 14:42</td>\n",
       "    </tr>\n",
       "    <tr>\n",
       "      <th>END_DATE</th>\n",
       "      <td>01-01-2016 21:17</td>\n",
       "      <td>01-02-2016 01:37</td>\n",
       "      <td>01-02-2016 20:38</td>\n",
       "      <td>01-05-2016 17:45</td>\n",
       "      <td>01-06-2016 15:49</td>\n",
       "    </tr>\n",
       "    <tr>\n",
       "      <th>CATEGORY</th>\n",
       "      <td>Business</td>\n",
       "      <td>Business</td>\n",
       "      <td>Business</td>\n",
       "      <td>Business</td>\n",
       "      <td>Business</td>\n",
       "    </tr>\n",
       "    <tr>\n",
       "      <th>START</th>\n",
       "      <td>Fort Pierce</td>\n",
       "      <td>Fort Pierce</td>\n",
       "      <td>Fort Pierce</td>\n",
       "      <td>Fort Pierce</td>\n",
       "      <td>Fort Pierce</td>\n",
       "    </tr>\n",
       "    <tr>\n",
       "      <th>STOP</th>\n",
       "      <td>Fort Pierce</td>\n",
       "      <td>Fort Pierce</td>\n",
       "      <td>Fort Pierce</td>\n",
       "      <td>Fort Pierce</td>\n",
       "      <td>West Palm Beach</td>\n",
       "    </tr>\n",
       "    <tr>\n",
       "      <th>PURPOSE</th>\n",
       "      <td>Meal/Entertain</td>\n",
       "      <td>NaN</td>\n",
       "      <td>Errand/Supplies</td>\n",
       "      <td>Meeting</td>\n",
       "      <td>Customer Visit</td>\n",
       "    </tr>\n",
       "    <tr>\n",
       "      <th>MILES</th>\n",
       "      <td>5.1</td>\n",
       "      <td>5</td>\n",
       "      <td>4.8</td>\n",
       "      <td>4.7</td>\n",
       "      <td>63.7</td>\n",
       "    </tr>\n",
       "    <tr>\n",
       "      <th>start_dt</th>\n",
       "      <td>2016-01-01 21:11:00</td>\n",
       "      <td>2016-01-02 01:25:00</td>\n",
       "      <td>2016-01-02 20:25:00</td>\n",
       "      <td>2016-01-05 17:31:00</td>\n",
       "      <td>2016-01-06 14:42:00</td>\n",
       "    </tr>\n",
       "    <tr>\n",
       "      <th>end_dt</th>\n",
       "      <td>2016-01-01 21:17:00</td>\n",
       "      <td>2016-01-02 01:37:00</td>\n",
       "      <td>2016-01-02 20:38:00</td>\n",
       "      <td>2016-01-05 17:45:00</td>\n",
       "      <td>2016-01-06 15:49:00</td>\n",
       "    </tr>\n",
       "    <tr>\n",
       "      <th>start_day</th>\n",
       "      <td>1</td>\n",
       "      <td>2</td>\n",
       "      <td>2</td>\n",
       "      <td>5</td>\n",
       "      <td>6</td>\n",
       "    </tr>\n",
       "    <tr>\n",
       "      <th>start_hour</th>\n",
       "      <td>21</td>\n",
       "      <td>1</td>\n",
       "      <td>20</td>\n",
       "      <td>17</td>\n",
       "      <td>14</td>\n",
       "    </tr>\n",
       "    <tr>\n",
       "      <th>start_month</th>\n",
       "      <td>1</td>\n",
       "      <td>1</td>\n",
       "      <td>1</td>\n",
       "      <td>1</td>\n",
       "      <td>1</td>\n",
       "    </tr>\n",
       "    <tr>\n",
       "      <th>d_of_wk</th>\n",
       "      <td>4</td>\n",
       "      <td>5</td>\n",
       "      <td>5</td>\n",
       "      <td>1</td>\n",
       "      <td>2</td>\n",
       "    </tr>\n",
       "    <tr>\n",
       "      <th>weekday</th>\n",
       "      <td>Fri</td>\n",
       "      <td>Sat</td>\n",
       "      <td>Sat</td>\n",
       "      <td>Tue</td>\n",
       "      <td>Wed</td>\n",
       "    </tr>\n",
       "  </tbody>\n",
       "</table>\n",
       "</div>"
      ],
      "text/plain": [
       "                               0                    1                    2  \\\n",
       "Trip_Id                        1                    2                    3   \n",
       "START_DATE      01-01-2016 21:11     01-02-2016 01:25     01-02-2016 20:25   \n",
       "END_DATE        01-01-2016 21:17     01-02-2016 01:37     01-02-2016 20:38   \n",
       "CATEGORY                Business             Business             Business   \n",
       "START                Fort Pierce          Fort Pierce          Fort Pierce   \n",
       "STOP                 Fort Pierce          Fort Pierce          Fort Pierce   \n",
       "PURPOSE           Meal/Entertain                  NaN      Errand/Supplies   \n",
       "MILES                        5.1                    5                  4.8   \n",
       "start_dt     2016-01-01 21:11:00  2016-01-02 01:25:00  2016-01-02 20:25:00   \n",
       "end_dt       2016-01-01 21:17:00  2016-01-02 01:37:00  2016-01-02 20:38:00   \n",
       "start_day                      1                    2                    2   \n",
       "start_hour                    21                    1                   20   \n",
       "start_month                    1                    1                    1   \n",
       "d_of_wk                        4                    5                    5   \n",
       "weekday                      Fri                  Sat                  Sat   \n",
       "\n",
       "                               3                    4  \n",
       "Trip_Id                        4                    5  \n",
       "START_DATE      01-05-2016 17:31     01-06-2016 14:42  \n",
       "END_DATE        01-05-2016 17:45     01-06-2016 15:49  \n",
       "CATEGORY                Business             Business  \n",
       "START                Fort Pierce          Fort Pierce  \n",
       "STOP                 Fort Pierce      West Palm Beach  \n",
       "PURPOSE                  Meeting       Customer Visit  \n",
       "MILES                        4.7                 63.7  \n",
       "start_dt     2016-01-05 17:31:00  2016-01-06 14:42:00  \n",
       "end_dt       2016-01-05 17:45:00  2016-01-06 15:49:00  \n",
       "start_day                      5                    6  \n",
       "start_hour                    17                   14  \n",
       "start_month                    1                    1  \n",
       "d_of_wk                        1                    2  \n",
       "weekday                      Tue                  Wed  "
      ]
     },
     "execution_count": 130,
     "metadata": {
      "tags": []
     },
     "output_type": "execute_result"
    }
   ],
   "source": [
    "df.head().T"
   ]
  },
  {
   "cell_type": "code",
   "execution_count": null,
   "metadata": {
    "id": "L-Ehy-L873wM"
   },
   "outputs": [],
   "source": [
    "df['cal_month'] =  df['start_dt'].apply(lambda x : datetime.strftime(x,'%b'))"
   ]
  },
  {
   "cell_type": "code",
   "execution_count": null,
   "metadata": {
    "colab": {
     "base_uri": "https://localhost:8080/",
     "height": 306
    },
    "id": "iCotg9pf73wQ",
    "outputId": "8ae77514-2d3c-4124-e4c6-35adf66c6aee",
    "scrolled": true
   },
   "outputs": [
    {
     "data": {
      "text/html": [
       "<div>\n",
       "<style scoped>\n",
       "    .dataframe tbody tr th:only-of-type {\n",
       "        vertical-align: middle;\n",
       "    }\n",
       "\n",
       "    .dataframe tbody tr th {\n",
       "        vertical-align: top;\n",
       "    }\n",
       "\n",
       "    .dataframe thead th {\n",
       "        text-align: right;\n",
       "    }\n",
       "</style>\n",
       "<table border=\"1\" class=\"dataframe\">\n",
       "  <thead>\n",
       "    <tr style=\"text-align: right;\">\n",
       "      <th></th>\n",
       "      <th>0</th>\n",
       "      <th>1</th>\n",
       "      <th>2</th>\n",
       "      <th>3</th>\n",
       "      <th>4</th>\n",
       "    </tr>\n",
       "  </thead>\n",
       "  <tbody>\n",
       "    <tr>\n",
       "      <th>Trip_Id</th>\n",
       "      <td>1</td>\n",
       "      <td>2</td>\n",
       "      <td>3</td>\n",
       "      <td>4</td>\n",
       "      <td>5</td>\n",
       "    </tr>\n",
       "    <tr>\n",
       "      <th>START_DATE</th>\n",
       "      <td>01-01-2016 21:11</td>\n",
       "      <td>01-02-2016 01:25</td>\n",
       "      <td>01-02-2016 20:25</td>\n",
       "      <td>01-05-2016 17:31</td>\n",
       "      <td>01-06-2016 14:42</td>\n",
       "    </tr>\n",
       "    <tr>\n",
       "      <th>END_DATE</th>\n",
       "      <td>01-01-2016 21:17</td>\n",
       "      <td>01-02-2016 01:37</td>\n",
       "      <td>01-02-2016 20:38</td>\n",
       "      <td>01-05-2016 17:45</td>\n",
       "      <td>01-06-2016 15:49</td>\n",
       "    </tr>\n",
       "    <tr>\n",
       "      <th>CATEGORY</th>\n",
       "      <td>Business</td>\n",
       "      <td>Business</td>\n",
       "      <td>Business</td>\n",
       "      <td>Business</td>\n",
       "      <td>Business</td>\n",
       "    </tr>\n",
       "    <tr>\n",
       "      <th>START</th>\n",
       "      <td>Fort Pierce</td>\n",
       "      <td>Fort Pierce</td>\n",
       "      <td>Fort Pierce</td>\n",
       "      <td>Fort Pierce</td>\n",
       "      <td>Fort Pierce</td>\n",
       "    </tr>\n",
       "    <tr>\n",
       "      <th>STOP</th>\n",
       "      <td>Fort Pierce</td>\n",
       "      <td>Fort Pierce</td>\n",
       "      <td>Fort Pierce</td>\n",
       "      <td>Fort Pierce</td>\n",
       "      <td>West Palm Beach</td>\n",
       "    </tr>\n",
       "    <tr>\n",
       "      <th>PURPOSE</th>\n",
       "      <td>Meal/Entertain</td>\n",
       "      <td>NaN</td>\n",
       "      <td>Errand/Supplies</td>\n",
       "      <td>Meeting</td>\n",
       "      <td>Customer Visit</td>\n",
       "    </tr>\n",
       "    <tr>\n",
       "      <th>MILES</th>\n",
       "      <td>5.1</td>\n",
       "      <td>5</td>\n",
       "      <td>4.8</td>\n",
       "      <td>4.7</td>\n",
       "      <td>63.7</td>\n",
       "    </tr>\n",
       "    <tr>\n",
       "      <th>start_dt</th>\n",
       "      <td>2016-01-01 21:11:00</td>\n",
       "      <td>2016-01-02 01:25:00</td>\n",
       "      <td>2016-01-02 20:25:00</td>\n",
       "      <td>2016-01-05 17:31:00</td>\n",
       "      <td>2016-01-06 14:42:00</td>\n",
       "    </tr>\n",
       "    <tr>\n",
       "      <th>end_dt</th>\n",
       "      <td>2016-01-01 21:17:00</td>\n",
       "      <td>2016-01-02 01:37:00</td>\n",
       "      <td>2016-01-02 20:38:00</td>\n",
       "      <td>2016-01-05 17:45:00</td>\n",
       "      <td>2016-01-06 15:49:00</td>\n",
       "    </tr>\n",
       "    <tr>\n",
       "      <th>start_day</th>\n",
       "      <td>1</td>\n",
       "      <td>2</td>\n",
       "      <td>2</td>\n",
       "      <td>5</td>\n",
       "      <td>6</td>\n",
       "    </tr>\n",
       "    <tr>\n",
       "      <th>start_hour</th>\n",
       "      <td>21</td>\n",
       "      <td>1</td>\n",
       "      <td>20</td>\n",
       "      <td>17</td>\n",
       "      <td>14</td>\n",
       "    </tr>\n",
       "    <tr>\n",
       "      <th>start_month</th>\n",
       "      <td>1</td>\n",
       "      <td>1</td>\n",
       "      <td>1</td>\n",
       "      <td>1</td>\n",
       "      <td>1</td>\n",
       "    </tr>\n",
       "    <tr>\n",
       "      <th>d_of_wk</th>\n",
       "      <td>4</td>\n",
       "      <td>5</td>\n",
       "      <td>5</td>\n",
       "      <td>1</td>\n",
       "      <td>2</td>\n",
       "    </tr>\n",
       "    <tr>\n",
       "      <th>weekday</th>\n",
       "      <td>Fri</td>\n",
       "      <td>Sat</td>\n",
       "      <td>Sat</td>\n",
       "      <td>Tue</td>\n",
       "      <td>Wed</td>\n",
       "    </tr>\n",
       "    <tr>\n",
       "      <th>cal_month</th>\n",
       "      <td>Jan</td>\n",
       "      <td>Jan</td>\n",
       "      <td>Jan</td>\n",
       "      <td>Jan</td>\n",
       "      <td>Jan</td>\n",
       "    </tr>\n",
       "  </tbody>\n",
       "</table>\n",
       "</div>"
      ],
      "text/plain": [
       "                               0                    1                    2  \\\n",
       "Trip_Id                        1                    2                    3   \n",
       "START_DATE      01-01-2016 21:11     01-02-2016 01:25     01-02-2016 20:25   \n",
       "END_DATE        01-01-2016 21:17     01-02-2016 01:37     01-02-2016 20:38   \n",
       "CATEGORY                Business             Business             Business   \n",
       "START                Fort Pierce          Fort Pierce          Fort Pierce   \n",
       "STOP                 Fort Pierce          Fort Pierce          Fort Pierce   \n",
       "PURPOSE           Meal/Entertain                  NaN      Errand/Supplies   \n",
       "MILES                        5.1                    5                  4.8   \n",
       "start_dt     2016-01-01 21:11:00  2016-01-02 01:25:00  2016-01-02 20:25:00   \n",
       "end_dt       2016-01-01 21:17:00  2016-01-02 01:37:00  2016-01-02 20:38:00   \n",
       "start_day                      1                    2                    2   \n",
       "start_hour                    21                    1                   20   \n",
       "start_month                    1                    1                    1   \n",
       "d_of_wk                        4                    5                    5   \n",
       "weekday                      Fri                  Sat                  Sat   \n",
       "cal_month                    Jan                  Jan                  Jan   \n",
       "\n",
       "                               3                    4  \n",
       "Trip_Id                        4                    5  \n",
       "START_DATE      01-05-2016 17:31     01-06-2016 14:42  \n",
       "END_DATE        01-05-2016 17:45     01-06-2016 15:49  \n",
       "CATEGORY                Business             Business  \n",
       "START                Fort Pierce          Fort Pierce  \n",
       "STOP                 Fort Pierce      West Palm Beach  \n",
       "PURPOSE                  Meeting       Customer Visit  \n",
       "MILES                        4.7                 63.7  \n",
       "start_dt     2016-01-05 17:31:00  2016-01-06 14:42:00  \n",
       "end_dt       2016-01-05 17:45:00  2016-01-06 15:49:00  \n",
       "start_day                      5                    6  \n",
       "start_hour                    17                   14  \n",
       "start_month                    1                    1  \n",
       "d_of_wk                        1                    2  \n",
       "weekday                      Tue                  Wed  \n",
       "cal_month                    Jan                  Jan  "
      ]
     },
     "execution_count": 132,
     "metadata": {
      "tags": []
     },
     "output_type": "execute_result"
    }
   ],
   "source": [
    "df.head().T"
   ]
  },
  {
   "cell_type": "markdown",
   "metadata": {
    "id": "A4oM-qwtjqDq"
   },
   "source": [
    "**Now let us answer the questions above.**\n",
    "<br>\n",
    "<br>\n",
    "**1. Busiest month in terms of number of drives and miles driven**"
   ]
  },
  {
   "cell_type": "code",
   "execution_count": null,
   "metadata": {
    "colab": {
     "base_uri": "https://localhost:8080/",
     "height": 255
    },
    "id": "GRUKjqys73wW",
    "outputId": "14007238-5e80-4163-d1d2-4fa15af65a78",
    "scrolled": false
   },
   "outputs": [
    {
     "data": {
      "text/plain": [
       "cal_month\n",
       "Dec    146\n",
       "Aug    133\n",
       "Nov    122\n",
       "Feb    115\n",
       "Mar    113\n",
       "Jul    112\n",
       "Jun    108\n",
       "Oct    106\n",
       "Jan     61\n",
       "Apr     54\n",
       "May     49\n",
       "Sep     36\n",
       "Name: Trip_Id, dtype: int64"
      ]
     },
     "execution_count": 133,
     "metadata": {
      "tags": []
     },
     "output_type": "execute_result"
    }
   ],
   "source": [
    "#groupby calender months and count the number of drives\n",
    "df.groupby('cal_month').count()['Trip_Id'].sort_values(ascending = False)           "
   ]
  },
  {
   "cell_type": "markdown",
   "metadata": {
    "id": "zOto16I4jqDr"
   },
   "source": [
    "**December appears to be the busiest month in terms of number of drives**"
   ]
  },
  {
   "cell_type": "code",
   "execution_count": null,
   "metadata": {
    "id": "CFBd5lbWjqDr",
    "outputId": "a78272ac-c16b-4bae-f8af-c7a68d948e98",
    "scrolled": true
   },
   "outputs": [
    {
     "data": {
      "text/plain": [
       "cal_month\n",
       "Oct    1810.0\n",
       "Mar    1693.9\n",
       "Aug    1335.5\n",
       "Jul    1224.6\n",
       "Apr    1113.0\n",
       "Dec     981.3\n",
       "Feb     908.2\n",
       "Jun     842.8\n",
       "Nov     816.9\n",
       "Sep     601.8\n",
       "Jan     512.9\n",
       "May     363.8\n",
       "Name: MILES, dtype: float64"
      ]
     },
     "execution_count": 134,
     "metadata": {
      "tags": []
     },
     "output_type": "execute_result"
    }
   ],
   "source": [
    "#groupby calender months and count the number of drives\n",
    "df.groupby('cal_month').sum()['MILES'].sort_values(ascending = False)           "
   ]
  },
  {
   "cell_type": "markdown",
   "metadata": {
    "id": "_gZmt-fyjqDr"
   },
   "source": [
    "**October appears to be the busiest month in terms of miles driven**"
   ]
  },
  {
   "cell_type": "markdown",
   "metadata": {
    "id": "QtWFspbPjqDs"
   },
   "source": [
    "**2. Busiest day in terms of number of rides**"
   ]
  },
  {
   "cell_type": "code",
   "execution_count": null,
   "metadata": {
    "colab": {
     "base_uri": "https://localhost:8080/",
     "height": 170
    },
    "id": "UHWuwGBw73wb",
    "outputId": "d91d9d1e-32b6-4f91-ff68-13642d5ef10b"
   },
   "outputs": [
    {
     "data": {
      "text/plain": [
       "weekday\n",
       "Fri    206\n",
       "Mon    174\n",
       "Sat    150\n",
       "Sun    148\n",
       "Thu    154\n",
       "Tue    176\n",
       "Wed    147\n",
       "dtype: int64"
      ]
     },
     "execution_count": 135,
     "metadata": {
      "tags": []
     },
     "output_type": "execute_result"
    }
   ],
   "source": [
    "# Which day did the driver get most drives? \n",
    "\n",
    "df.groupby(['weekday']).size()  \n",
    "#note that .count() could also have been used. However, .size() makes it look more clean."
   ]
  },
  {
   "cell_type": "markdown",
   "metadata": {
    "id": "myRVUvO073we"
   },
   "source": [
    "**3. Peak hours ?**"
   ]
  },
  {
   "cell_type": "code",
   "execution_count": null,
   "metadata": {
    "colab": {
     "base_uri": "https://localhost:8080/",
     "height": 442
    },
    "id": "rkesjjDV73we",
    "outputId": "bb940da3-1050-4c6e-c1ad-6af72e6fa2cf"
   },
   "outputs": [
    {
     "data": {
      "text/plain": [
       "start_hour\n",
       "0     19\n",
       "1      5\n",
       "2      2\n",
       "3      3\n",
       "5      4\n",
       "6      4\n",
       "7     13\n",
       "8     35\n",
       "9     51\n",
       "10    65\n",
       "11    72\n",
       "12    77\n",
       "13    94\n",
       "14    89\n",
       "15    98\n",
       "16    88\n",
       "17    95\n",
       "18    94\n",
       "19    68\n",
       "20    71\n",
       "21    51\n",
       "22    31\n",
       "23    26\n",
       "dtype: int64"
      ]
     },
     "execution_count": 136,
     "metadata": {
      "tags": []
     },
     "output_type": "execute_result"
    }
   ],
   "source": [
    "df.groupby('start_hour').size()             # The number of trips started for each hour."
   ]
  },
  {
   "cell_type": "markdown",
   "metadata": {
    "id": "iY9t7tHK73wg"
   },
   "source": [
    "**Looks like the peak hours seem to be between 13PM - 6PM**"
   ]
  },
  {
   "cell_type": "markdown",
   "metadata": {
    "id": "FuAyy6-_jqDt"
   },
   "source": [
    "#### For practice - figure out the trips that are starting and ending at the same time (0 minutes elapsed).<br>\n",
    "The first step is in the cell below. Try to figure out the rest of the steps after this session. \n",
    "<br>"
   ]
  },
  {
   "cell_type": "code",
   "execution_count": null,
   "metadata": {
    "id": "w9f_7Toz73wp"
   },
   "outputs": [],
   "source": [
    "df['diff'] = (df['end_dt'] - df['start_dt'])"
   ]
  },
  {
   "cell_type": "markdown",
   "metadata": {
    "id": "KRW20r1S73wt"
   },
   "source": [
    "This creates a timedelta datatype"
   ]
  },
  {
   "cell_type": "markdown",
   "metadata": {
    "id": "WLH7zHmN73wv"
   },
   "source": [
    "Find the date time units in  https://docs.scipy.org/doc/numpy/reference/arrays.datetime.html\n",
    "\n",
    "search for 'Datetime Units'"
   ]
  },
  {
   "cell_type": "markdown",
   "metadata": {
    "id": "rw4cx0F873w6"
   },
   "source": [
    "#### For practice- Exploring existing features to create new ones - Speed \n",
    "- Open for all of you to explore and figure out what all can be understood and derived from this feature"
   ]
  },
  {
   "cell_type": "markdown",
   "metadata": {
    "id": "Ll5jdpAf73xA"
   },
   "source": [
    "## 4. Category & Purpose\n",
    "#### Explore the category and the purpose of the trips through\n",
    "- Most frequent trip category\n",
    "- Most frequent trip purpose\n",
    "- Miles driven per category and purpose\n",
    "- Percent composition of business miles vs personal miles\n",
    "- time spent per category and purpose"
   ]
  },
  {
   "cell_type": "markdown",
   "metadata": {
    "id": "kqJ8MwtDjqDu"
   },
   "source": [
    "**1. Most frequent trip category**"
   ]
  },
  {
   "cell_type": "code",
   "execution_count": null,
   "metadata": {
    "colab": {
     "base_uri": "https://localhost:8080/",
     "height": 68
    },
    "id": "gquL3BUv73xA",
    "outputId": "a24986ba-fb5c-4d00-ce7f-8882193af7e0"
   },
   "outputs": [
    {
     "data": {
      "text/plain": [
       "Business    1078\n",
       "Personal      77\n",
       "Name: CATEGORY, dtype: int64"
      ]
     },
     "execution_count": 138,
     "metadata": {
      "tags": []
     },
     "output_type": "execute_result"
    }
   ],
   "source": [
    "df['CATEGORY'].value_counts()"
   ]
  },
  {
   "cell_type": "markdown",
   "metadata": {
    "id": "P1avZc0473xD"
   },
   "source": [
    "**Most trips are in the business category**"
   ]
  },
  {
   "cell_type": "markdown",
   "metadata": {
    "id": "VHQYJYB5jqDu"
   },
   "source": [
    "**2. Most frequent Purpose**"
   ]
  },
  {
   "cell_type": "code",
   "execution_count": null,
   "metadata": {
    "colab": {
     "base_uri": "https://localhost:8080/",
     "height": 204
    },
    "id": "1i1t_EpJ73xD",
    "outputId": "d94f57e6-7ef6-492f-9403-e3a600330a44"
   },
   "outputs": [
    {
     "data": {
      "text/plain": [
       "Meeting            187\n",
       "Meal/Entertain     160\n",
       "Errand/Supplies    128\n",
       "Customer Visit     101\n",
       "Temporary Site      50\n",
       "Between Offices     18\n",
       "Moving               4\n",
       "Airport/Travel       3\n",
       "Charity ($)          1\n",
       "Commute              1\n",
       "Name: PURPOSE, dtype: int64"
      ]
     },
     "execution_count": 139,
     "metadata": {
      "tags": []
     },
     "output_type": "execute_result"
    }
   ],
   "source": [
    "#Purpose\n",
    "df['PURPOSE'].value_counts()"
   ]
  },
  {
   "cell_type": "markdown",
   "metadata": {
    "id": "I4ninmDJ73xG"
   },
   "source": [
    "**Most trips are for meetings**"
   ]
  },
  {
   "cell_type": "code",
   "execution_count": null,
   "metadata": {
    "colab": {
     "base_uri": "https://localhost:8080/",
     "height": 221
    },
    "id": "g8PeGQyn73xH",
    "outputId": "dd785412-1a8d-4288-8008-0ecc65eb9633"
   },
   "outputs": [
    {
     "data": {
      "text/plain": [
       "PURPOSE\n",
       "Commute            180.200000\n",
       "Customer Visit      20.688119\n",
       "Meeting             15.247594\n",
       "Charity ($)         15.100000\n",
       "Between Offices     10.944444\n",
       "Temporary Site      10.474000\n",
       "Meal/Entertain       5.698125\n",
       "Airport/Travel       5.500000\n",
       "Moving               4.550000\n",
       "Errand/Supplies      3.968750\n",
       "Name: MILES, dtype: float64"
      ]
     },
     "execution_count": 140,
     "metadata": {
      "tags": []
     },
     "output_type": "execute_result"
    }
   ],
   "source": [
    "#Average distance traveled for each activity\n",
    "df.groupby('PURPOSE').mean()['MILES'].sort_values(ascending = False)"
   ]
  },
  {
   "cell_type": "markdown",
   "metadata": {
    "id": "Or6uXGAv73xI"
   },
   "source": [
    "**Now lets try to answer some questions from this data.**\n",
    "\n",
    "**Question3**: How many miles were driven per category and purpose ?\n",
    "\n",
    "**Question4**: What is percentage of business miles vs personal?\n",
    "\n",
    "**Question5**: How much time was spend for drives per category and purpose?  - <i>for practice: you will need to create a time difference variable - answers will be shared through a notebook</i>\n"
   ]
  },
  {
   "cell_type": "code",
   "execution_count": null,
   "metadata": {
    "colab": {
     "base_uri": "https://localhost:8080/",
     "height": 221
    },
    "id": "rLz2LvBk73xJ",
    "outputId": "a79af4c4-f50a-4768-8978-34426fe41a2a"
   },
   "outputs": [
    {
     "data": {
      "text/plain": [
       "PURPOSE\n",
       "Meeting            2851.3\n",
       "Customer Visit     2089.5\n",
       "Meal/Entertain      911.7\n",
       "Temporary Site      523.7\n",
       "Errand/Supplies     508.0\n",
       "Between Offices     197.0\n",
       "Commute             180.2\n",
       "Moving               18.2\n",
       "Airport/Travel       16.5\n",
       "Charity ($)          15.1\n",
       "Name: MILES, dtype: float64"
      ]
     },
     "execution_count": 141,
     "metadata": {
      "tags": []
     },
     "output_type": "execute_result"
    }
   ],
   "source": [
    "#Question3: How many miles were driven per category and purpose ?\n",
    "df.groupby('PURPOSE').sum()['MILES'].sort_values(ascending = False)"
   ]
  },
  {
   "cell_type": "code",
   "execution_count": null,
   "metadata": {
    "colab": {
     "base_uri": "https://localhost:8080/",
     "height": 85
    },
    "id": "XpIICZl773xK",
    "outputId": "fa82427b-a87a-45ea-9a25-45a054d6f105"
   },
   "outputs": [
    {
     "data": {
      "text/plain": [
       "CATEGORY\n",
       "Business    11487.0\n",
       "Personal      717.7\n",
       "Name: MILES, dtype: float64"
      ]
     },
     "execution_count": 142,
     "metadata": {
      "tags": []
     },
     "output_type": "execute_result"
    }
   ],
   "source": [
    "#Question3: How many miles were driven per category and purpose ?\n",
    "df.groupby('CATEGORY').sum()['MILES'].sort_values(ascending = False)"
   ]
  },
  {
   "cell_type": "code",
   "execution_count": null,
   "metadata": {
    "colab": {
     "base_uri": "https://localhost:8080/",
     "height": 142
    },
    "id": "b_snpubb73xM",
    "outputId": "bd25cf6e-b90a-453b-cbe6-9dfa871132a5",
    "scrolled": true
   },
   "outputs": [
    {
     "data": {
      "text/html": [
       "<div>\n",
       "<style scoped>\n",
       "    .dataframe tbody tr th:only-of-type {\n",
       "        vertical-align: middle;\n",
       "    }\n",
       "\n",
       "    .dataframe tbody tr th {\n",
       "        vertical-align: top;\n",
       "    }\n",
       "\n",
       "    .dataframe thead th {\n",
       "        text-align: right;\n",
       "    }\n",
       "</style>\n",
       "<table border=\"1\" class=\"dataframe\">\n",
       "  <thead>\n",
       "    <tr style=\"text-align: right;\">\n",
       "      <th></th>\n",
       "      <th>% of Miles</th>\n",
       "    </tr>\n",
       "    <tr>\n",
       "      <th>CATEGORY</th>\n",
       "      <th></th>\n",
       "    </tr>\n",
       "  </thead>\n",
       "  <tbody>\n",
       "    <tr>\n",
       "      <th>Business</th>\n",
       "      <td>94.119479</td>\n",
       "    </tr>\n",
       "    <tr>\n",
       "      <th>Personal</th>\n",
       "      <td>5.880521</td>\n",
       "    </tr>\n",
       "  </tbody>\n",
       "</table>\n",
       "</div>"
      ],
      "text/plain": [
       "          % of Miles\n",
       "CATEGORY            \n",
       "Business   94.119479\n",
       "Personal    5.880521"
      ]
     },
     "execution_count": 143,
     "metadata": {
      "tags": []
     },
     "output_type": "execute_result"
    }
   ],
   "source": [
    "#Question4: What is percentage of business miles vs personal?\n",
    "df1 = df.groupby('CATEGORY').agg({'MILES':'sum'})\n",
    "df1\n",
    "df1.apply(lambda x: x/x.sum()*100).rename(columns = {'MILES':'% of Miles'})"
   ]
  },
  {
   "cell_type": "markdown",
   "metadata": {
    "id": "RolqOhtUjqDw"
   },
   "source": [
    "## Profile Report - \n",
    "Through the exercise, we discussed the various aspects the driver profile for the uberdriver data given. The insights received were-\n",
    "\n",
    "**Name and number of all the unique start and stop points**<br>\n",
    "We found the unique start and stop points for the driver. We figured out the localities the driver is active in.\n",
    "\n",
    "**Popular start and stop point**<br>\n",
    "Cary has been the most popular start and stop point\n",
    "\n",
    "**Rides with same start and stop points**<br>\n",
    "288 such rides were found\n",
    "\n",
    "**Starting point from which most miles have been driven**<br>\n",
    "Unknown location followed by Cary\n",
    "\n",
    "**Start- stop pairs that are most travelled in terms of distance**<br>\n",
    "Morissville - Cary\n",
    "\n",
    "**busiest month in terms of number of drives and miles driven**<br>\n",
    "In terms of no of drives - December\n",
    "In terms of miles driven - October\n",
    "\n",
    "**busiest day of the week**<br>\n",
    "Friday\n",
    "\n",
    "**peak hours**<br>\n",
    "1PM - 6PM\n",
    "\n",
    "**most frequent trip category**<br>\n",
    "Business\n",
    "\n",
    "**most frequent trip purpose**<br>\n",
    "Meeting\n",
    "\n",
    "**miles driven per category and purpose**<br>\n",
    "We figured these numbers out. Category wise Business and purpose wise meetings were leading in terms of miles driven\n",
    "\n",
    "**percent composition of business miles vs personal miles**<br>\n",
    "Business - 94%\n",
    "Personal - 6%\n",
    "\n",
    "\n",
    "## Summary  -\n",
    "Through this exercise, we tried to check out the data analysis toolkit offered by pandas. We went to explore variables at hand, use groupby, implement datatime manipulation, explored possibility to create new features and various other operations on pandas dataframe.\n",
    "We also had a sneak peek into the upcoming week's topic of visualization.\n",
    "\n",
    "Learners are recommended to explore further on this building on the points discussed in the notebook.\n",
    "Happy Learning!"
   ]
  },
  {
   "cell_type": "code",
   "execution_count": null,
   "metadata": {
    "id": "fiq-EvubjqDw"
   },
   "outputs": [],
   "source": []
  }
 ],
 "metadata": {
  "colab": {
   "collapsed_sections": [
    "8jSvBLWi73vR"
   ],
   "name": "Uber_Data_Analysis (1) (1).ipynb",
   "provenance": []
  },
  "kernelspec": {
   "display_name": "Python 3",
   "language": "python",
   "name": "python3"
  },
  "language_info": {
   "codemirror_mode": {
    "name": "ipython",
    "version": 3
   },
   "file_extension": ".py",
   "mimetype": "text/x-python",
   "name": "python",
   "nbconvert_exporter": "python",
   "pygments_lexer": "ipython3",
   "version": "3.8.3"
  }
 },
 "nbformat": 4,
 "nbformat_minor": 1
}
