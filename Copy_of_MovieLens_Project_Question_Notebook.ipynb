{
  "nbformat": 4,
  "nbformat_minor": 0,
  "metadata": {
    "kernelspec": {
      "display_name": "Python 3",
      "language": "python",
      "name": "python3"
    },
    "language_info": {
      "codemirror_mode": {
        "name": "ipython",
        "version": 3
      },
      "file_extension": ".py",
      "mimetype": "text/x-python",
      "name": "python",
      "nbconvert_exporter": "python",
      "pygments_lexer": "ipython3",
      "version": "3.9.0"
    },
    "colab": {
      "name": "Copy of MovieLens Project Question Notebook.ipynb",
      "provenance": [],
      "include_colab_link": true
    }
  },
  "cells": [
    {
      "cell_type": "markdown",
      "metadata": {
        "id": "view-in-github",
        "colab_type": "text"
      },
      "source": [
        "<a href=\"https://colab.research.google.com/github/VenugopalAI/utm/blob/Draft_init/Copy_of_MovieLens_Project_Question_Notebook.ipynb\" target=\"_parent\"><img src=\"https://colab.research.google.com/assets/colab-badge.svg\" alt=\"Open In Colab\"/></a>"
      ]
    },
    {
      "cell_type": "markdown",
      "metadata": {
        "id": "qC4AT6MLPYEj"
      },
      "source": [
        "### `Project - MovieLens Data Analysis`\n",
        "\n",
        "The GroupLens Research Project is a research group in the Department of Computer Science and Engineering at the University of Minnesota. The data is widely used for collaborative filtering and other filtering solutions. However, we will be using this data to act as a means to demonstrate our skill in using Python to “play” with data.\n",
        "\n",
        "### `Objective:`\n",
        "- To implement the techniques learnt as a part of the course.\n",
        "\n",
        "### `Datasets Information:`\n",
        "\n",
        "*rating.csv:* It contains information on ratings given by the users to a particular movie.\n",
        "- user id: id assigned to every user\n",
        "- movie id: id assigned to every movie\n",
        "- rating: rating given by the user\n",
        "- timestamp: Time recorded when the user gave a rating\n",
        "\n",
        "*movie.csv:* File contains information related to the movies and their genre.\n",
        "- movie id: id assigned to every movie\n",
        "- movie title: Title of the movie\n",
        "- release date: Date of release of the movie\n",
        "- Action: Genre containing binary values (1 - for action 0 - not action)\n",
        "- Adventure: Genre containing binary values (1 - for adventure 0 - not adventure)\n",
        "- Animation: Genre containing binary values (1 - for animation 0 - not animation)\n",
        "- Children’s: Genre containing binary values (1 - for children's 0 - not children's)\n",
        "- Comedy: Genre containing binary values (1 - for comedy 0 - not comedy)\n",
        "- Crime: Genre containing binary values (1 - for crime 0 - not crime)\n",
        "- Documentary: Genre containing binary values (1 - for documentary 0 - not documentary)\n",
        "- Drama: Genre containing binary values (1 - for drama 0 - not drama)\n",
        "- Fantasy: Genre containing binary values (1 - for fantasy 0 - not fantasy)\n",
        "- Film-Noir: Genre containing binary values (1 - for film-noir 0 - not film-noir)\n",
        "- Horror: Genre containing binary values (1 - for horror 0 - not horror)\n",
        "- Musical: Genre containing binary values (1 - for musical 0 - not musical)\n",
        "- Mystery: Genre containing binary values (1 - for mystery 0 - not mystery)\n",
        "- Romance: Genre containing binary values (1 - for romance 0 - not romance)\n",
        "- Sci-Fi: Genre containing binary values (1 - for sci-fi 0 - not sci-fi)\n",
        "- Thriller: Genre containing binary values (1 - for thriller 0 - not thriller)\n",
        "- War: Genre containing binary values (1 - for war 0 - not war)\n",
        "- Western: Genre containing binary values (1 - for western - not western)\n",
        "\n",
        "\n",
        "*user.csv:* It contains information of the users who have rated the movies.\n",
        "- user id: id assigned to every user\n",
        "- age: Age of the user\n",
        "- gender: Gender of the user\n",
        "- occupation: Occupation of the user\n",
        "- zip code: Zip code of the use\n",
        "\n",
        "**`Please provide your insights wherever necessary.`**\n",
        "\n",
        "### `Learning Outcomes:`\n",
        "- Exploratory Data Analysis\n",
        "\n",
        "- Visualization using Python\n",
        "\n",
        "- Pandas – groupby, merging \n",
        "\n",
        "\n",
        "### `Domain` \n",
        "- Internet and Entertainment\n",
        "\n",
        "**Note that the project will need you to apply the concepts of groupby and merging extensively.**"
      ]
    },
    {
      "cell_type": "markdown",
      "metadata": {
        "id": "TKazFtJUPYE8"
      },
      "source": [
        "### 1. Import the necessary packages - 2.5 marks"
      ]
    },
    {
      "cell_type": "code",
      "metadata": {
        "id": "C0Xr1_esPYE_"
      },
      "source": [
        "#your code here\n",
        "import pandas as pd\n",
        "import numpy as np\n",
        "import matplotlib.pyplot as plt\n",
        "%matplotlib inline\n",
        "import seaborn as sns\n",
        "import warnings\n",
        "warnings.filterwarnings('ignore')\n",
        "from scipy.stats import zscore\n",
        "from sklearn.preprocessing import StandardScaler, MinMaxScaler"
      ],
      "execution_count": null,
      "outputs": []
    },
    {
      "cell_type": "markdown",
      "metadata": {
        "id": "UoBrC7iLPYFB"
      },
      "source": [
        "### 2. Read the 3 datasets into dataframes - 2.5 marks"
      ]
    },
    {
      "cell_type": "code",
      "metadata": {
        "scrolled": true,
        "id": "SQ6mwfkTPYFD"
      },
      "source": [
        "#your code here\n",
        "df_ratings = pd.read_csv('user_ratings.csv')\n",
        "df_moviedata = pd.read_csv('movie_data.csv')\n",
        "df_userdata  = pd.read_csv('user_data.csv')\n",
        "#df = pd.read_csv(\"pima-indians-diabetes.csv\") \n"
      ],
      "execution_count": null,
      "outputs": []
    },
    {
      "cell_type": "code",
      "metadata": {
        "id": "xWsq_El2PYFE",
        "outputId": "7a70517c-9e48-4bd6-d69b-1e14e8848e0a"
      },
      "source": [
        "df_ratings.head()"
      ],
      "execution_count": null,
      "outputs": [
        {
          "output_type": "execute_result",
          "data": {
            "text/html": [
              "<div>\n",
              "<style scoped>\n",
              "    .dataframe tbody tr th:only-of-type {\n",
              "        vertical-align: middle;\n",
              "    }\n",
              "\n",
              "    .dataframe tbody tr th {\n",
              "        vertical-align: top;\n",
              "    }\n",
              "\n",
              "    .dataframe thead th {\n",
              "        text-align: right;\n",
              "    }\n",
              "</style>\n",
              "<table border=\"1\" class=\"dataframe\">\n",
              "  <thead>\n",
              "    <tr style=\"text-align: right;\">\n",
              "      <th></th>\n",
              "      <th>user id</th>\n",
              "      <th>movie id</th>\n",
              "      <th>rating</th>\n",
              "      <th>timestamp</th>\n",
              "    </tr>\n",
              "  </thead>\n",
              "  <tbody>\n",
              "    <tr>\n",
              "      <th>0</th>\n",
              "      <td>196</td>\n",
              "      <td>242</td>\n",
              "      <td>3</td>\n",
              "      <td>881250949</td>\n",
              "    </tr>\n",
              "    <tr>\n",
              "      <th>1</th>\n",
              "      <td>186</td>\n",
              "      <td>302</td>\n",
              "      <td>3</td>\n",
              "      <td>891717742</td>\n",
              "    </tr>\n",
              "    <tr>\n",
              "      <th>2</th>\n",
              "      <td>22</td>\n",
              "      <td>377</td>\n",
              "      <td>1</td>\n",
              "      <td>878887116</td>\n",
              "    </tr>\n",
              "    <tr>\n",
              "      <th>3</th>\n",
              "      <td>244</td>\n",
              "      <td>51</td>\n",
              "      <td>2</td>\n",
              "      <td>880606923</td>\n",
              "    </tr>\n",
              "    <tr>\n",
              "      <th>4</th>\n",
              "      <td>166</td>\n",
              "      <td>346</td>\n",
              "      <td>1</td>\n",
              "      <td>886397596</td>\n",
              "    </tr>\n",
              "  </tbody>\n",
              "</table>\n",
              "</div>"
            ],
            "text/plain": [
              "   user id  movie id  rating  timestamp\n",
              "0      196       242       3  881250949\n",
              "1      186       302       3  891717742\n",
              "2       22       377       1  878887116\n",
              "3      244        51       2  880606923\n",
              "4      166       346       1  886397596"
            ]
          },
          "metadata": {
            "tags": []
          },
          "execution_count": 4
        }
      ]
    },
    {
      "cell_type": "code",
      "metadata": {
        "id": "tMN09X_QPYFI",
        "outputId": "34adad64-6f31-45a1-80b0-eeae1413c05e"
      },
      "source": [
        "df_moviedata.head()\n"
      ],
      "execution_count": null,
      "outputs": [
        {
          "output_type": "execute_result",
          "data": {
            "text/html": [
              "<div>\n",
              "<style scoped>\n",
              "    .dataframe tbody tr th:only-of-type {\n",
              "        vertical-align: middle;\n",
              "    }\n",
              "\n",
              "    .dataframe tbody tr th {\n",
              "        vertical-align: top;\n",
              "    }\n",
              "\n",
              "    .dataframe thead th {\n",
              "        text-align: right;\n",
              "    }\n",
              "</style>\n",
              "<table border=\"1\" class=\"dataframe\">\n",
              "  <thead>\n",
              "    <tr style=\"text-align: right;\">\n",
              "      <th></th>\n",
              "      <th>movie id</th>\n",
              "      <th>movie title</th>\n",
              "      <th>release date</th>\n",
              "      <th>unknown</th>\n",
              "      <th>Action</th>\n",
              "      <th>Adventure</th>\n",
              "      <th>Animation</th>\n",
              "      <th>Childrens</th>\n",
              "      <th>Comedy</th>\n",
              "      <th>Crime</th>\n",
              "      <th>...</th>\n",
              "      <th>Fantasy</th>\n",
              "      <th>Film-Noir</th>\n",
              "      <th>Horror</th>\n",
              "      <th>Musical</th>\n",
              "      <th>Mystery</th>\n",
              "      <th>Romance</th>\n",
              "      <th>Sci-Fi</th>\n",
              "      <th>Thriller</th>\n",
              "      <th>War</th>\n",
              "      <th>Western</th>\n",
              "    </tr>\n",
              "  </thead>\n",
              "  <tbody>\n",
              "    <tr>\n",
              "      <th>0</th>\n",
              "      <td>1</td>\n",
              "      <td>Toy Story</td>\n",
              "      <td>01-Jan-1995</td>\n",
              "      <td>0</td>\n",
              "      <td>0</td>\n",
              "      <td>0</td>\n",
              "      <td>1</td>\n",
              "      <td>1</td>\n",
              "      <td>1</td>\n",
              "      <td>0</td>\n",
              "      <td>...</td>\n",
              "      <td>0</td>\n",
              "      <td>0</td>\n",
              "      <td>0</td>\n",
              "      <td>0</td>\n",
              "      <td>0</td>\n",
              "      <td>0</td>\n",
              "      <td>0</td>\n",
              "      <td>0</td>\n",
              "      <td>0</td>\n",
              "      <td>0</td>\n",
              "    </tr>\n",
              "    <tr>\n",
              "      <th>1</th>\n",
              "      <td>2</td>\n",
              "      <td>GoldenEye</td>\n",
              "      <td>01-Jan-1995</td>\n",
              "      <td>0</td>\n",
              "      <td>1</td>\n",
              "      <td>1</td>\n",
              "      <td>0</td>\n",
              "      <td>0</td>\n",
              "      <td>0</td>\n",
              "      <td>0</td>\n",
              "      <td>...</td>\n",
              "      <td>0</td>\n",
              "      <td>0</td>\n",
              "      <td>0</td>\n",
              "      <td>0</td>\n",
              "      <td>0</td>\n",
              "      <td>0</td>\n",
              "      <td>0</td>\n",
              "      <td>1</td>\n",
              "      <td>0</td>\n",
              "      <td>0</td>\n",
              "    </tr>\n",
              "    <tr>\n",
              "      <th>2</th>\n",
              "      <td>3</td>\n",
              "      <td>Four Rooms</td>\n",
              "      <td>01-Jan-1995</td>\n",
              "      <td>0</td>\n",
              "      <td>0</td>\n",
              "      <td>0</td>\n",
              "      <td>0</td>\n",
              "      <td>0</td>\n",
              "      <td>0</td>\n",
              "      <td>0</td>\n",
              "      <td>...</td>\n",
              "      <td>0</td>\n",
              "      <td>0</td>\n",
              "      <td>0</td>\n",
              "      <td>0</td>\n",
              "      <td>0</td>\n",
              "      <td>0</td>\n",
              "      <td>0</td>\n",
              "      <td>1</td>\n",
              "      <td>0</td>\n",
              "      <td>0</td>\n",
              "    </tr>\n",
              "    <tr>\n",
              "      <th>3</th>\n",
              "      <td>4</td>\n",
              "      <td>Get Shorty</td>\n",
              "      <td>01-Jan-1995</td>\n",
              "      <td>0</td>\n",
              "      <td>1</td>\n",
              "      <td>0</td>\n",
              "      <td>0</td>\n",
              "      <td>0</td>\n",
              "      <td>1</td>\n",
              "      <td>0</td>\n",
              "      <td>...</td>\n",
              "      <td>0</td>\n",
              "      <td>0</td>\n",
              "      <td>0</td>\n",
              "      <td>0</td>\n",
              "      <td>0</td>\n",
              "      <td>0</td>\n",
              "      <td>0</td>\n",
              "      <td>0</td>\n",
              "      <td>0</td>\n",
              "      <td>0</td>\n",
              "    </tr>\n",
              "    <tr>\n",
              "      <th>4</th>\n",
              "      <td>5</td>\n",
              "      <td>Copycat</td>\n",
              "      <td>01-Jan-1995</td>\n",
              "      <td>0</td>\n",
              "      <td>0</td>\n",
              "      <td>0</td>\n",
              "      <td>0</td>\n",
              "      <td>0</td>\n",
              "      <td>0</td>\n",
              "      <td>1</td>\n",
              "      <td>...</td>\n",
              "      <td>0</td>\n",
              "      <td>0</td>\n",
              "      <td>0</td>\n",
              "      <td>0</td>\n",
              "      <td>0</td>\n",
              "      <td>0</td>\n",
              "      <td>0</td>\n",
              "      <td>1</td>\n",
              "      <td>0</td>\n",
              "      <td>0</td>\n",
              "    </tr>\n",
              "  </tbody>\n",
              "</table>\n",
              "<p>5 rows × 22 columns</p>\n",
              "</div>"
            ],
            "text/plain": [
              "   movie id  movie title release date  unknown  Action  Adventure  Animation  \\\n",
              "0         1   Toy Story   01-Jan-1995        0       0          0          1   \n",
              "1         2   GoldenEye   01-Jan-1995        0       1          1          0   \n",
              "2         3  Four Rooms   01-Jan-1995        0       0          0          0   \n",
              "3         4  Get Shorty   01-Jan-1995        0       1          0          0   \n",
              "4         5     Copycat   01-Jan-1995        0       0          0          0   \n",
              "\n",
              "   Childrens  Comedy  Crime  ...  Fantasy  Film-Noir  Horror  Musical  \\\n",
              "0          1       1      0  ...        0          0       0        0   \n",
              "1          0       0      0  ...        0          0       0        0   \n",
              "2          0       0      0  ...        0          0       0        0   \n",
              "3          0       1      0  ...        0          0       0        0   \n",
              "4          0       0      1  ...        0          0       0        0   \n",
              "\n",
              "   Mystery  Romance  Sci-Fi  Thriller  War  Western  \n",
              "0        0        0       0         0    0        0  \n",
              "1        0        0       0         1    0        0  \n",
              "2        0        0       0         1    0        0  \n",
              "3        0        0       0         0    0        0  \n",
              "4        0        0       0         1    0        0  \n",
              "\n",
              "[5 rows x 22 columns]"
            ]
          },
          "metadata": {
            "tags": []
          },
          "execution_count": 5
        }
      ]
    },
    {
      "cell_type": "code",
      "metadata": {
        "id": "UlP8fVVyPYFK",
        "outputId": "04eba2c6-3061-43a6-c5c1-8cd83891f9b4"
      },
      "source": [
        "df_userdata.head()"
      ],
      "execution_count": null,
      "outputs": [
        {
          "output_type": "execute_result",
          "data": {
            "text/html": [
              "<div>\n",
              "<style scoped>\n",
              "    .dataframe tbody tr th:only-of-type {\n",
              "        vertical-align: middle;\n",
              "    }\n",
              "\n",
              "    .dataframe tbody tr th {\n",
              "        vertical-align: top;\n",
              "    }\n",
              "\n",
              "    .dataframe thead th {\n",
              "        text-align: right;\n",
              "    }\n",
              "</style>\n",
              "<table border=\"1\" class=\"dataframe\">\n",
              "  <thead>\n",
              "    <tr style=\"text-align: right;\">\n",
              "      <th></th>\n",
              "      <th>user id</th>\n",
              "      <th>age</th>\n",
              "      <th>gender</th>\n",
              "      <th>occupation</th>\n",
              "      <th>zip code</th>\n",
              "    </tr>\n",
              "  </thead>\n",
              "  <tbody>\n",
              "    <tr>\n",
              "      <th>0</th>\n",
              "      <td>1</td>\n",
              "      <td>24</td>\n",
              "      <td>M</td>\n",
              "      <td>technician</td>\n",
              "      <td>85711</td>\n",
              "    </tr>\n",
              "    <tr>\n",
              "      <th>1</th>\n",
              "      <td>2</td>\n",
              "      <td>53</td>\n",
              "      <td>F</td>\n",
              "      <td>other</td>\n",
              "      <td>94043</td>\n",
              "    </tr>\n",
              "    <tr>\n",
              "      <th>2</th>\n",
              "      <td>3</td>\n",
              "      <td>23</td>\n",
              "      <td>M</td>\n",
              "      <td>writer</td>\n",
              "      <td>32067</td>\n",
              "    </tr>\n",
              "    <tr>\n",
              "      <th>3</th>\n",
              "      <td>4</td>\n",
              "      <td>24</td>\n",
              "      <td>M</td>\n",
              "      <td>technician</td>\n",
              "      <td>43537</td>\n",
              "    </tr>\n",
              "    <tr>\n",
              "      <th>4</th>\n",
              "      <td>5</td>\n",
              "      <td>33</td>\n",
              "      <td>F</td>\n",
              "      <td>other</td>\n",
              "      <td>15213</td>\n",
              "    </tr>\n",
              "  </tbody>\n",
              "</table>\n",
              "</div>"
            ],
            "text/plain": [
              "   user id  age gender  occupation zip code\n",
              "0        1   24      M  technician    85711\n",
              "1        2   53      F       other    94043\n",
              "2        3   23      M      writer    32067\n",
              "3        4   24      M  technician    43537\n",
              "4        5   33      F       other    15213"
            ]
          },
          "metadata": {
            "tags": []
          },
          "execution_count": 6
        }
      ]
    },
    {
      "cell_type": "markdown",
      "metadata": {
        "id": "Z3BMG5vnPYFL"
      },
      "source": [
        "### 3. Apply info, shape, describe, and find the number of missing values in the data. Present at least 3 observations from these operations - 2.5 marks\n",
        " - Note that you will need to do it for all the three datasets seperately"
      ]
    },
    {
      "cell_type": "code",
      "metadata": {
        "id": "Fy7gXSaUPYFM"
      },
      "source": [
        "#your code here"
      ],
      "execution_count": null,
      "outputs": []
    },
    {
      "cell_type": "markdown",
      "metadata": {
        "id": "bAUa8CcYPYFN"
      },
      "source": [
        "**Observations:**\n",
        "\n"
      ]
    },
    {
      "cell_type": "markdown",
      "metadata": {
        "id": "s-BcSTuqPYFO"
      },
      "source": [
        "### 4. Find the number of movies per genre using the item data - 2.5 marks"
      ]
    },
    {
      "cell_type": "code",
      "metadata": {
        "id": "KESGtzlePYFO"
      },
      "source": [
        "#your code here"
      ],
      "execution_count": null,
      "outputs": []
    },
    {
      "cell_type": "markdown",
      "metadata": {
        "id": "X059g9esPYFP"
      },
      "source": [
        "**Insights:**\n",
        "\n"
      ]
    },
    {
      "cell_type": "markdown",
      "metadata": {
        "id": "AQas6tzdPYFQ"
      },
      "source": [
        "### 5. Drop the movie where the genre is unknown - 2.5 marks"
      ]
    },
    {
      "cell_type": "code",
      "metadata": {
        "id": "TIgaJjNoPYFQ"
      },
      "source": [
        "#your code here"
      ],
      "execution_count": null,
      "outputs": []
    },
    {
      "cell_type": "markdown",
      "metadata": {
        "id": "XRlOA80bPYFR"
      },
      "source": [
        "**Insights:**\n"
      ]
    },
    {
      "cell_type": "markdown",
      "metadata": {
        "id": "c-DRoUisPYFR"
      },
      "source": [
        "### 6. Find the movies that have more than one genre - 5 marks\n",
        "\n",
        "hint: use sum on the axis = 1\n",
        "\n",
        "Display movie name, number of genres for the movie in dataframe\n",
        "\n",
        "and also print(total number of movies which have more than one genres)"
      ]
    },
    {
      "cell_type": "code",
      "metadata": {
        "id": "AjE41yIfPYFS"
      },
      "source": [
        "#your code here"
      ],
      "execution_count": null,
      "outputs": []
    },
    {
      "cell_type": "markdown",
      "metadata": {
        "id": "CmujIbniPYFS"
      },
      "source": [
        "**Insights:**\n",
        "\n"
      ]
    },
    {
      "cell_type": "markdown",
      "metadata": {
        "id": "b4PH0ec9PYFT"
      },
      "source": [
        "### 7. Univariate plots of columns: 'rating', 'Age', 'release year', 'Gender' and 'Occupation' - 10 marks\n",
        "\n",
        "*HINT: Use distplot for age and countplot for release year, ratings, *\n",
        "\n",
        "*HINT: Please refer to the below snippet to understand how to get to release year from release date. You can use str.split() as depicted below or you could convert it to pandas datetime format and extract year (.dt.year)*"
      ]
    },
    {
      "cell_type": "code",
      "metadata": {
        "id": "KyPb2DQaPYFU",
        "outputId": "5d59641d-d551-4fdb-c8df-d69fd1c11494"
      },
      "source": [
        "a = 'My*cat*is*brown'\n",
        "print(a.split('*')[3])\n",
        "\n",
        "#similarly, the release year needs to be taken out from release date\n",
        "\n",
        "#also you can simply slice existing string to get the desired data, if we want to take out the colour of the cat\n",
        "\n",
        "print(a[10:])\n",
        "print(a[-5:])"
      ],
      "execution_count": null,
      "outputs": [
        {
          "output_type": "stream",
          "text": [
            "brown\n",
            "brown\n",
            "brown\n"
          ],
          "name": "stdout"
        }
      ]
    },
    {
      "cell_type": "code",
      "metadata": {
        "id": "ONsCvt5fPYFV"
      },
      "source": [
        "#your code here"
      ],
      "execution_count": null,
      "outputs": []
    },
    {
      "cell_type": "markdown",
      "metadata": {
        "id": "g-KJan1-PYFV"
      },
      "source": [
        "### 8. Visualize how popularity of genres has changed over the years - 10 marks\n",
        "\n",
        "Note that you need to use the **percent of number of releases in a year** as a parameter of popularity of a genre\n",
        "\n",
        "Hint 1: You need to reach to a data frame where the release year is the index and the genre is the column names (one cell shows the number of release in a year in one genre) or vice versa. (Drop unnecessary column if there are any)\n",
        "\n",
        "Hint 2: Find the total number of movies release in a year(use item dataset to get count of movies released in a particular year, store that value in a new column as 'total'). Now divide the value of each genre in that year by total to get percentage number of release in a particular year.\n",
        "`(df.div(df['total'], axis= 0) * 100)`\n",
        "\n",
        "Once that is achieved, you can either use univariate plots or can use the heatmap to visualise all the changes over the years \n",
        "in one go. \n",
        "\n",
        "Hint 3: Use groupby on the relevant column and use sum() on the same to find out the number of releases in a year/genre."
      ]
    },
    {
      "cell_type": "code",
      "metadata": {
        "id": "Ih_tvBMiPYFW"
      },
      "source": [
        "#your code here"
      ],
      "execution_count": null,
      "outputs": []
    },
    {
      "cell_type": "markdown",
      "metadata": {
        "id": "721Rz1J0PYFX"
      },
      "source": [
        "**Insights:**\n",
        "\n"
      ]
    },
    {
      "cell_type": "markdown",
      "metadata": {
        "id": "S-lTYJ__PYFX"
      },
      "source": [
        "### 9. Find the top 25 movies in terms of average ratings for movies that have been rated more than 100 times - 10 marks\n",
        "\n",
        "Hints : \n",
        "\n",
        "1. Find the count of ratings and average ratings for every movie.\n",
        "2. Slice the movies which have ratings more than 100.\n",
        "3. Sort values according to average rating such that movie which highest rating is on top.\n",
        "4. Select top 25 movies.\n",
        "5. You will have to use the .merge() function to get the movie titles.\n",
        "\n",
        "Note: This question will need you to research about groupby and apply your findings. You can find more on groupby on https://realpython.com/pandas-groupby/."
      ]
    },
    {
      "cell_type": "code",
      "metadata": {
        "id": "CObleu2zPYFY"
      },
      "source": [
        "#your code here"
      ],
      "execution_count": null,
      "outputs": []
    },
    {
      "cell_type": "markdown",
      "metadata": {
        "id": "nV_Qgi1oPYFZ"
      },
      "source": [
        "### 10. Check for the validity of the below statements with respect to the data provided - 10 marks\n",
        "\n",
        "* Men watch more drama than women\n",
        "* Women watch more Sci-Fi than men\n",
        "* Men watch more Romance than women\n",
        "\n",
        "**compare the percentages**\n",
        "\n",
        "**Please pay attention to what should be the denominator while calculating percentages**"
      ]
    },
    {
      "cell_type": "markdown",
      "metadata": {
        "id": "WCIxXrSVPYFZ"
      },
      "source": [
        "1. Merge all the datasets\n",
        "\n",
        "2. There is no need to conduct statistical tests around this. Just **compare the percentages** and comment on the validity of the above statements.\n",
        "\n",
        "3. you might want ot use the .sum(), .div() function here.\n",
        "\n",
        "4. Use number of ratings to validate the numbers. For example, if out of 4000 ratings received by women, 3000 are for drama, we will assume that 75% of the women watch drama."
      ]
    },
    {
      "cell_type": "code",
      "metadata": {
        "id": "3hqIVhiiPYFa"
      },
      "source": [
        "#your code here"
      ],
      "execution_count": null,
      "outputs": []
    },
    {
      "cell_type": "markdown",
      "metadata": {
        "id": "aI9pUdypPYFa"
      },
      "source": [
        "**Conclusion:**\n",
        "    \n"
      ]
    }
  ]
}